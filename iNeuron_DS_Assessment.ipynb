{
  "nbformat": 4,
  "nbformat_minor": 0,
  "metadata": {
    "colab": {
      "provenance": []
    },
    "kernelspec": {
      "name": "python3",
      "display_name": "Python 3"
    },
    "language_info": {
      "name": "python"
    }
  },
  "cells": [
    {
      "cell_type": "markdown",
      "source": [
        "**Python:**\n",
        "\n",
        "Question: 1"
      ],
      "metadata": {
        "id": "5SYQIJV0eXAJ"
      }
    },
    {
      "cell_type": "code",
      "execution_count": 21,
      "metadata": {
        "colab": {
          "base_uri": "https://localhost:8080/"
        },
        "id": "yWFkOQG0j-Cb",
        "outputId": "a668014c-4668-416d-c58d-4be4e5bd5fcc"
      },
      "outputs": [
        {
          "output_type": "stream",
          "name": "stdout",
          "text": [
            "{'abc': ['def', 'ghi', 'jkl', 'mno', 'pqr', 'stu', 'vwx', 'yz'],\n",
            " 'def': ['ghi', 'jkl', 'mno', 'pqr', 'stu', 'vwx', 'yz'],\n",
            " 'ghi': ['jkl', 'mno', 'pqr', 'stu', 'vwx', 'yz'],\n",
            " 'jkl': ['mno', 'pqr', 'stu', 'vwx', 'yz'],\n",
            " 'mno': ['pqr', 'stu', 'vwx', 'yz'],\n",
            " 'pqr': ['stu', 'vwx', 'yz'],\n",
            " 'stu': ['vwx', 'yz'],\n",
            " 'vwx': ['yz'],\n",
            " 'yz': ['you are finally here !!!']}\n"
          ]
        }
      ],
      "source": [
        "from pprint import pprint\n",
        "\n",
        "data = {\"abc\":{\"def\":{\"ghi\":{\"jkl\":{\"mno\":{\"pqr\":{\"stu\":{\"vwx\":{\"yz\":\"you are finally here !!!\"}}}}}}}}}\n",
        "\n",
        "def a_particular_style(data):\n",
        "    ret = {}\n",
        "    for k, v in data.items():\n",
        "        if isinstance(v, dict):\n",
        "            d = a_particular_style(v)\n",
        "            ret.update(d)\n",
        "            ret[k] = list(reversed(d))\n",
        "        else:\n",
        "            ret[k] = [v]\n",
        "    return ret\n",
        "\n",
        "pprint(a_particular_style(data))"
      ]
    },
    {
      "cell_type": "markdown",
      "source": [
        "**Python:**\n",
        "\n",
        "Question: 2"
      ],
      "metadata": {
        "id": "UXQ1IJyBpkRU"
      }
    },
    {
      "cell_type": "code",
      "source": [
        "def count_horses(stalls, distance):\n",
        "    count = 1\n",
        "    last_position = stalls[0]\n",
        "    for i in range(1, len(stalls)):\n",
        "        if stalls[i] - last_position >= distance:\n",
        "            count += 1\n",
        "            last_position = stalls[i]\n",
        "    return count\n",
        "\n",
        "def largest_minimum_distance(stalls, k):\n",
        "    stalls.sort()\n",
        "    low = 1  # Minimum possible distance\n",
        "    high = stalls[-1] - stalls[0]  # Maximum possible distance\n",
        "\n",
        "    while low <= high:\n",
        "        mid = (low + high) // 2\n",
        "        if count_horses(stalls, mid) >= k:\n",
        "            low = mid + 1\n",
        "        else:\n",
        "            high = mid - 1\n",
        "\n",
        "    return high\n",
        "\n",
        "# Example usage:\n",
        "stalls = [1, 2, 4, 8, 9]\n",
        "k = 3\n",
        "print(largest_minimum_distance(stalls, k))  # Output: 3\n"
      ],
      "metadata": {
        "colab": {
          "base_uri": "https://localhost:8080/"
        },
        "id": "_gwBNz2Yo3lh",
        "outputId": "740aef12-0fee-4786-e292-e2708b6e15c9"
      },
      "execution_count": 22,
      "outputs": [
        {
          "output_type": "stream",
          "name": "stdout",
          "text": [
            "3\n"
          ]
        }
      ]
    },
    {
      "cell_type": "markdown",
      "source": [
        "Question: 3"
      ],
      "metadata": {
        "id": "M9wQS8kbppB_"
      }
    },
    {
      "cell_type": "code",
      "source": [
        "n, m = map(int,input().split())\n",
        "for i in range(n//2):\n",
        "    j = int((2*i)+1)\n",
        "    print(('.|.'*j).center(m, '-'))\n",
        "print('WELCOME'.center(m,'-'))\n",
        "for i in reversed(range(n//2)):\n",
        "    j = int((2*i)+1)\n",
        "    print(('.|.'*j).center(m, '-'))"
      ],
      "metadata": {
        "colab": {
          "base_uri": "https://localhost:8080/"
        },
        "id": "oHl3KcHypqYf",
        "outputId": "e6d0db3c-8c04-4960-acff-8f6737fc2fe5"
      },
      "execution_count": 25,
      "outputs": [
        {
          "output_type": "stream",
          "name": "stdout",
          "text": [
            "11 33\n",
            "---------------.|.---------------\n",
            "------------.|..|..|.------------\n",
            "---------.|..|..|..|..|.---------\n",
            "------.|..|..|..|..|..|..|.------\n",
            "---.|..|..|..|..|..|..|..|..|.---\n",
            "-------------WELCOME-------------\n",
            "---.|..|..|..|..|..|..|..|..|.---\n",
            "------.|..|..|..|..|..|..|.------\n",
            "---------.|..|..|..|..|.---------\n",
            "------------.|..|..|.------------\n",
            "---------------.|.---------------\n"
          ]
        }
      ]
    },
    {
      "cell_type": "markdown",
      "source": [
        "Question: 4"
      ],
      "metadata": {
        "id": "2YIIFz5YqiQ6"
      }
    },
    {
      "cell_type": "code",
      "source": [
        "def fourSum(nums, target):\n",
        "    nums.sort()\n",
        "    result = []\n",
        "    n = len(nums)\n",
        "\n",
        "    for i in range(n - 3):\n",
        "        # Avoid duplicate quadruplets\n",
        "        if i > 0 and nums[i] == nums[i - 1]:\n",
        "            continue\n",
        "\n",
        "        for j in range(i + 1, n - 2):\n",
        "            # Avoid duplicate quadruplets\n",
        "            if j > i + 1 and nums[j] == nums[j - 1]:\n",
        "                continue\n",
        "\n",
        "            left = j + 1\n",
        "            right = n - 1\n",
        "\n",
        "            while left < right:\n",
        "                total = nums[i] + nums[j] + nums[left] + nums[right]\n",
        "\n",
        "                if total == target:\n",
        "                    result.append([nums[i], nums[j], nums[left], nums[right]])\n",
        "\n",
        "                    # Avoid duplicate quadruplets\n",
        "                    while left < right and nums[left] == nums[left + 1]:\n",
        "                        left += 1\n",
        "                    while left < right and nums[right] == nums[right - 1]:\n",
        "                        right -= 1\n",
        "\n",
        "                    left += 1\n",
        "                    right -= 1\n",
        "                elif total < target:\n",
        "                    left += 1\n",
        "                else:\n",
        "                    right -= 1\n",
        "\n",
        "    return result\n",
        "\n",
        "# Example usage:\n",
        "nums = [1, 0, -1, 0, -2, 2]\n",
        "target = 0\n",
        "print(fourSum(nums, target))  # Output: [[-2, -1, 1, 2], [-2, 0, 0, 2], [-1, 0, 0, 1]]\n"
      ],
      "metadata": {
        "colab": {
          "base_uri": "https://localhost:8080/"
        },
        "id": "WwgvnXv3qbhw",
        "outputId": "43cef491-57c6-4d1c-8595-33829e04c556"
      },
      "execution_count": 26,
      "outputs": [
        {
          "output_type": "stream",
          "name": "stdout",
          "text": [
            "[[-2, -1, 1, 2], [-2, 0, 0, 2], [-1, 0, 0, 1]]\n"
          ]
        }
      ]
    },
    {
      "cell_type": "markdown",
      "source": [
        "**SQL:**\n",
        "\n",
        "Question: 1\n",
        "\n",
        "Given the following tables:\n",
        "*Image*\n",
        "\n",
        "What will be the result of the query below?\n",
        "\n",
        "SELECT * FROM runners WHERE id NOT IN (SELECT winner_id FROM races)\n",
        "\n",
        "Explain your answer and also provide an alternative version of this query that will avoid the issue that it exposes.\n",
        "\n",
        "\n",
        "**Answer:** This will return empty set because NOT IN condition contains any values that are null, then the outer query here will return an empty set.\n",
        "\n",
        "\n",
        "# Alternative version of this query\n",
        "\n",
        "SELECT * FROM runners\n",
        "WHERE id NOT IN\n",
        "(SELECT winner_id FROM races WHERE winner_id IS NOT null)"
      ],
      "metadata": {
        "id": "QSalAAI-rwLe"
      }
    },
    {
      "cell_type": "markdown",
      "source": [
        "**Question: 2**\n",
        "\n",
        "Given two tables created as follows\n",
        "\n",
        "*Image*\n",
        "\n",
        "Write a query to fetch values in table test_a that are and not in test_b without using the NOT keyword.\n",
        "\n",
        "**Answer:**\n",
        "select * from test_a\n",
        "except\n",
        "select * from test_b;"
      ],
      "metadata": {
        "id": "6PAQ1AV8vfz8"
      }
    },
    {
      "cell_type": "markdown",
      "source": [
        "**Question: 3**\n",
        "\n",
        "Given the following tables:\n",
        "\n",
        "Write a query to to get the list of users who took the a training lesson more than once in the same day, grouped by user and training lesson, each ordered from the most recent lesson date to oldest date.\n",
        "\n",
        "**Answer:**\n",
        "\n",
        "SELECT username, tranning_date\n",
        "FROM users u\n",
        "INNER JOIN training_details t ON(u.user_id = t.user_id)\n",
        "GROUP BY username, tranning_date\n",
        "HAVING COUNT(*) > 1\n",
        "ORDER BY username, tranning_date DESC"
      ],
      "metadata": {
        "id": "gDFqSxabv7yr"
      }
    },
    {
      "cell_type": "markdown",
      "source": [
        "**Question: 4**\n",
        "\n",
        "Consider the Employee table below.\n",
        "\n",
        "**Answer:**\n",
        "\n",
        "SELECT E2.EMP_ID, E2.EMP_NAME, AVG(E1.SALARY)\n",
        "FROM MANAGER_EMP E1\n",
        "INNER JOIN MANAGER_EMP E2\n",
        "ON E1.MANAGER_ID = E2.EMP_ID\n",
        "GROUP BY E2.EMP_ID, E2.EMP_NAME"
      ],
      "metadata": {
        "id": "BOTFeMO5xd3g"
      }
    },
    {
      "cell_type": "markdown",
      "source": [
        "**Statistics:**\n",
        "\n",
        "**Question: 1**\n",
        "What is the meaning of six sigma in statistics?  Give proper example\n",
        "\n",
        "**Answer:**\n",
        "\n",
        "Six Sigma is a statistical methodology aimed at minimizing defects and variations in processes to achieve high quality and efficiency.\n",
        "It targets fewer than 3.4 defects per million opportunities.\n",
        "\n",
        "The process follows five phases:\n",
        "- Define,\n",
        "- Measure,\n",
        "- Analyze,\n",
        "- Improve,\n",
        "- Control (DMAIC)\n",
        "\n",
        "For example, a manufacturing company may use Six Sigma to reduce defects in widget production by analyzing data, identifying root causes, implementing improvements, and maintaining control measures.\n"
      ],
      "metadata": {
        "id": "qFPo8BtTyvi3"
      }
    },
    {
      "cell_type": "markdown",
      "source": [
        "**Question: 2**\n",
        "\n",
        "What type of data does not have a log-normal distribution or a Gaussian distribution?  Give proper example\n",
        "\n",
        "**Answer:**\n",
        "\n",
        "Skewed Data:\n",
        "\n",
        "Example: Income distribution in a population. In many cases, income data is positively skewed, meaning there are more lower-income individuals and a few high-income individuals, leading to a skewed distribution.\n",
        "Heavy-Tailed Distributions:\n",
        "\n",
        "Example: Stock market returns. Financial data often exhibits heavy tails, where extreme events occur more frequently than would be expected in a normal distribution.\n",
        "Bimodal or Multimodal Distributions:\n",
        "\n",
        "Example: Test scores in a class with two distinct groups of students (e.g., those who studied well and those who did not). This could result in a bimodal distribution rather than a unimodal (single-peaked) normal distribution.\n",
        "Categorical Data:\n",
        "\n",
        "Example: Blood types in a population. Categorical data, such as blood types (A, B, AB, O), does not follow a Gaussian distribution.\n",
        "Count Data:\n",
        "\n",
        "Example: Number of customer arrivals at a store in an hour. Count data, which involves non-negative integers, often follows a Poisson distribution or other non-normal distributions.\n",
        "Exponential Distribution:\n",
        "\n",
        "Example: Time between arrivals in a queuing system. The exponential distribution is often associated with the time between events in a Poisson process.\n",
        "Power Law Distributions:\n",
        "\n",
        "Example: Distribution of city sizes or website traffic. Power law distributions exhibit a few highly frequent events and many infrequent ones."
      ],
      "metadata": {
        "id": "AG4y0JhE1if6"
      }
    },
    {
      "cell_type": "markdown",
      "source": [
        "**Question: 3**\n",
        "\n",
        "What is the meaning of the five-number summary in Statistics? Give proper example\n",
        "\n",
        "**Answer:**\n",
        "\n",
        "The five-number summary is a descriptive statistic that provide a concise description of the central tendency, spread, and skewness of the dataset.\n",
        "Here's what each component of the five-number summary represents:\n",
        "* \t\tMinimum: The smallest value in the dataset.\n",
        "* \t\tFirst Quartile (Q1): The value below which 25% of the data fall. It is also known as the lower quartile.\n",
        "* \t\tMedian (Q2): The middle value of the dataset when it is ordered from smallest to largest. It separates the lower 50% from the upper 50% of the data.\n",
        "* \t\tThird Quartile (Q3): The value below which 75% of the data fall. It is also known as the upper quartile.\n",
        "* \t\tMaximum: The largest value in the dataset.\n",
        "\n",
        "Here's an example to illustrate the five-number summary:\n",
        "Consider the following dataset representing the scores of 12 students on a math test:\n",
        "65,72,78,80,82,84,86,88,90,92,95,98\n",
        "* \t\tMinimum: 65 (the smallest value)\n",
        "* \t\tFirst Quartile (Q1): 78 (25% of the data fall below this value)\n",
        "* \t\tMedian (Q2): 84 (the middle value)\n",
        "* \t\tThird Quartile (Q3): 90 (75% of the data fall below this value)\n",
        "* \t\tMaximum: 98 (the largest value)\n",
        "Using the five-number summary, you can quickly understand the range and distribution of the data. For instance, in this example, the spread between Q1 and Q3 (interquartile range) is 90−78=12, indicating the middle 50% of the scores. Additionally, the median (Q2) provides insight into the central tendency of the dataset.\n",
        "\n",
        "\n"
      ],
      "metadata": {
        "id": "51uvFOYe3amq"
      }
    },
    {
      "cell_type": "markdown",
      "source": [
        "**Question: 4**\n",
        "\n",
        "What is correlation? Give an example with a dataset & graphical representation on jupyter Notebook\n",
        "\n",
        "**Answer:**\n",
        "\n",
        "Correlation is a statistical measure that describes the strength and direction of a relationship between two variables. It quantifies the extent to which changes in one variable are associated with changes in another variable. Correlation coefficients range from -1 to 1, where:\n",
        "\n",
        "1 indicates a perfect positive correlation (as one variable increases, the other variable also increases).\n",
        "-1 indicates a perfect negative correlation (as one variable increases, the other variable decreases).\n",
        "0 indicates no correlation between the variables.\n",
        "\n",
        "\n"
      ],
      "metadata": {
        "id": "d4UzQvckDscb"
      }
    },
    {
      "cell_type": "code",
      "source": [
        "import numpy as np\n",
        "import pandas as pd\n",
        "import matplotlib.pyplot as plt\n",
        "\n",
        "# Creating a sample dataset\n",
        "hours_studied = [2, 3, 4, 5, 6, 7, 8, 9, 10]\n",
        "test_scores = [60, 65, 70, 75, 80, 85, 90, 95, 100]\n",
        "\n",
        "# Creating a DataFrame\n",
        "data = pd.DataFrame({'Hours Studied': hours_studied, 'Test Scores': test_scores})\n",
        "\n",
        "# Calculating correlation coefficient\n",
        "correlation_coefficient = data['Hours Studied'].corr(data['Test Scores'])\n",
        "print(\"Correlation coefficient:\", correlation_coefficient)\n",
        "\n",
        "# Plotting the data\n",
        "plt.scatter(data['Hours Studied'], data['Test Scores'])\n",
        "plt.title('Relationship between Hours Studied and Test Scores')\n",
        "plt.xlabel('Hours Studied')\n",
        "plt.ylabel('Test Scores')\n",
        "plt.grid(True)\n",
        "plt.show()\n"
      ],
      "metadata": {
        "colab": {
          "base_uri": "https://localhost:8080/",
          "height": 490
        },
        "id": "p8tRx0LUvfcr",
        "outputId": "cd7538a2-4c77-40b8-aa5d-48b7d3c4b6b4"
      },
      "execution_count": 27,
      "outputs": [
        {
          "output_type": "stream",
          "name": "stdout",
          "text": [
            "Correlation coefficient: 1.0\n"
          ]
        },
        {
          "output_type": "display_data",
          "data": {
            "text/plain": [
              "<Figure size 640x480 with 1 Axes>"
            ],
            "image/png": "[encoded data removed]"
          },
          "metadata": {}
        }
      ]
    },
    {
      "cell_type": "markdown",
      "source": [
        "**Machine learning:**\n",
        "\n",
        "Question: 1\n",
        "\n",
        "Imagine you have a dataset where you have different Instagram features like u sername , Caption , Hashtag , Followers , Time_Since_posted , and likes , now your task is to predict the number of likes and Time Since posted and the rest of the features are your input features. Now you have to build a model which can predict the number of likes and Time Since posted.\n",
        "Dataset This is the Dataset You can use this dataset for this question.\n",
        "\n",
        "**Answer:**\n",
        "\n"
      ],
      "metadata": {
        "id": "AlUW8C7JLiDS"
      }
    },
    {
      "cell_type": "code",
      "source": [
        "import pandas as pd\n",
        "import numpy as np\n",
        "from sklearn.model_selection import train_test_split\n",
        "from sklearn.linear_model import LinearRegression\n",
        "from sklearn.metrics import mean_squared_error\n",
        "from sklearn.preprocessing import OneHotEncoder\n",
        "import re\n",
        "import matplotlib.pyplot as plt\n",
        "import seaborn as sns\n",
        "import plotly.express as px\n",
        "from wordcloud import WordCloud, STOPWORDS, ImageColorGenerator\n",
        "import warnings\n",
        "warnings.filterwarnings('ignore')"
      ],
      "metadata": {
        "id": "Je3oBl98r3eJ"
      },
      "execution_count": 30,
      "outputs": []
    },
    {
      "cell_type": "code",
      "source": [
        "## Load the dataset using pandas:\n",
        "data = pd.read_csv(\"/content/sample_data/instagram_reach.csv\", encoding = 'latin1')\n",
        "data.head()\n"
      ],
      "metadata": {
        "colab": {
          "base_uri": "https://localhost:8080/",
          "height": 449
        },
        "id": "OitQkrM5UPeE",
        "outputId": "7cf9779d-2114-47a1-c36b-f917cc50ffae"
      },
      "execution_count": 32,
      "outputs": [
        {
          "output_type": "execute_result",
          "data": {
            "text/plain": [
              "   Unnamed: 0  S.No              USERNAME  \\\n",
              "0           0     1         mikequindazzi   \n",
              "1           1     2       drgorillapaints   \n",
              "2           2     3    aitrading_official   \n",
              "3           3     4  opensourcedworkplace   \n",
              "4           4     5           crea.vision   \n",
              "\n",
              "                                             Caption  Followers  \\\n",
              "0  Who are #DataScientist and what do they do? >>...       1600   \n",
              "1  We all know where itâs going. We just have t...        880   \n",
              "2  Alexander Barinov: 4 years as CFO in multinati...        255   \n",
              "3                                               sfad        340   \n",
              "4  Ever missed a call while your phone was chargi...        304   \n",
              "\n",
              "                                            Hashtags Time since posted  Likes  \n",
              "0  #MachineLearning #AI #DataAnalytics #DataScien...          11 hours    139  \n",
              "1  Â #deckÂ .#macÂ #macintosh#sayhelloÂ #appleÂ #...           2 hours     23  \n",
              "2  #whoiswhoÂ #aitradingÂ #aiÂ #aitradingteam#ins...           2 hours     25  \n",
              "3  #iotÂ #cre#workplaceÂ #CDOÂ #bigdataÂ #technol...           3 hours     49  \n",
              "4  #instamachinelearningÂ #instabigdata#instamark...           3 hours     30  "
            ],
            "text/html": [
              "\n",
              "  <div id=\"df-4600fe5d-f1e6-4131-8d86-f028f357c065\" class=\"colab-df-container\">\n",
              "    <div>\n",
              "<style scoped>\n",
              "    .dataframe tbody tr th:only-of-type {\n",
              "        vertical-align: middle;\n",
              "    }\n",
              "\n",
              "    .dataframe tbody tr th {\n",
              "        vertical-align: top;\n",
              "    }\n",
              "\n",
              "    .dataframe thead th {\n",
              "        text-align: right;\n",
              "    }\n",
              "</style>\n",
              "<table border=\"1\" class=\"dataframe\">\n",
              "  <thead>\n",
              "    <tr style=\"text-align: right;\">\n",
              "      <th></th>\n",
              "      <th>Unnamed: 0</th>\n",
              "      <th>S.No</th>\n",
              "      <th>USERNAME</th>\n",
              "      <th>Caption</th>\n",
              "      <th>Followers</th>\n",
              "      <th>Hashtags</th>\n",
              "      <th>Time since posted</th>\n",
              "      <th>Likes</th>\n",
              "    </tr>\n",
              "  </thead>\n",
              "  <tbody>\n",
              "    <tr>\n",
              "      <th>0</th>\n",
              "      <td>0</td>\n",
              "      <td>1</td>\n",
              "      <td>mikequindazzi</td>\n",
              "      <td>Who are #DataScientist and what do they do? &gt;&gt;...</td>\n",
              "      <td>1600</td>\n",
              "      <td>#MachineLearning #AI #DataAnalytics #DataScien...</td>\n",
              "      <td>11 hours</td>\n",
              "      <td>139</td>\n",
              "    </tr>\n",
              "    <tr>\n",
              "      <th>1</th>\n",
              "      <td>1</td>\n",
              "      <td>2</td>\n",
              "      <td>drgorillapaints</td>\n",
              "      <td>We all know where itâs going. We just have t...</td>\n",
              "      <td>880</td>\n",
              "      <td>Â #deckÂ .#macÂ #macintosh#sayhelloÂ #appleÂ #...</td>\n",
              "      <td>2 hours</td>\n",
              "      <td>23</td>\n",
              "    </tr>\n",
              "    <tr>\n",
              "      <th>2</th>\n",
              "      <td>2</td>\n",
              "      <td>3</td>\n",
              "      <td>aitrading_official</td>\n",
              "      <td>Alexander Barinov: 4 years as CFO in multinati...</td>\n",
              "      <td>255</td>\n",
              "      <td>#whoiswhoÂ #aitradingÂ #aiÂ #aitradingteam#ins...</td>\n",
              "      <td>2 hours</td>\n",
              "      <td>25</td>\n",
              "    </tr>\n",
              "    <tr>\n",
              "      <th>3</th>\n",
              "      <td>3</td>\n",
              "      <td>4</td>\n",
              "      <td>opensourcedworkplace</td>\n",
              "      <td>sfad</td>\n",
              "      <td>340</td>\n",
              "      <td>#iotÂ #cre#workplaceÂ #CDOÂ #bigdataÂ #technol...</td>\n",
              "      <td>3 hours</td>\n",
              "      <td>49</td>\n",
              "    </tr>\n",
              "    <tr>\n",
              "      <th>4</th>\n",
              "      <td>4</td>\n",
              "      <td>5</td>\n",
              "      <td>crea.vision</td>\n",
              "      <td>Ever missed a call while your phone was chargi...</td>\n",
              "      <td>304</td>\n",
              "      <td>#instamachinelearningÂ #instabigdata#instamark...</td>\n",
              "      <td>3 hours</td>\n",
              "      <td>30</td>\n",
              "    </tr>\n",
              "  </tbody>\n",
              "</table>\n",
              "</div>\n",
              "    <div class=\"colab-df-buttons\">\n",
              "\n",
              "  <div class=\"colab-df-container\">\n",
              "    <button class=\"colab-df-convert\" onclick=\"convertToInteractive('df-4600fe5d-f1e6-4131-8d86-f028f357c065')\"\n",
              "            title=\"Convert this dataframe to an interactive table.\"\n",
              "            style=\"display:none;\">\n",
              "\n",
              "  <svg xmlns=\"http://www.w3.org/2000/svg\" height=\"24px\" viewBox=\"0 -960 960 960\">\n",
              "    <path d=\"M120-120v-720h720v720H120Zm60-500h600v-160H180v160Zm220 220h160v-160H400v160Zm0 220h160v-160H400v160ZM180-400h160v-160H180v160Zm440 0h160v-160H620v160ZM180-180h160v-160H180v160Zm440 0h160v-160H620v160Z\"/>\n",
              "  </svg>\n",
              "    </button>\n",
              "\n",
              "  <style>\n",
              "    .colab-df-container {\n",
              "      display:flex;\n",
              "      gap: 12px;\n",
              "    }\n",
              "\n",
              "    .colab-df-convert {\n",
              "      background-color: #E8F0FE;\n",
              "      border: none;\n",
              "      border-radius: 50%;\n",
              "      cursor: pointer;\n",
              "      display: none;\n",
              "      fill: #1967D2;\n",
              "      height: 32px;\n",
              "      padding: 0 0 0 0;\n",
              "      width: 32px;\n",
              "    }\n",
              "\n",
              "    .colab-df-convert:hover {\n",
              "      background-color: #E2EBFA;\n",
              "      box-shadow: 0px 1px 2px rgba(60, 64, 67, 0.3), 0px 1px 3px 1px rgba(60, 64, 67, 0.15);\n",
              "      fill: #174EA6;\n",
              "    }\n",
              "\n",
              "    .colab-df-buttons div {\n",
              "      margin-bottom: 4px;\n",
              "    }\n",
              "\n",
              "    [theme=dark] .colab-df-convert {\n",
              "      background-color: #3B4455;\n",
              "      fill: #D2E3FC;\n",
              "    }\n",
              "\n",
              "    [theme=dark] .colab-df-convert:hover {\n",
              "      background-color: #434B5C;\n",
              "      box-shadow: 0px 1px 3px 1px rgba(0, 0, 0, 0.15);\n",
              "      filter: drop-shadow(0px 1px 2px rgba(0, 0, 0, 0.3));\n",
              "      fill: #FFFFFF;\n",
              "    }\n",
              "  </style>\n",
              "\n",
              "    <script>\n",
              "      const buttonEl =\n",
              "        document.querySelector('#df-4600fe5d-f1e6-4131-8d86-f028f357c065 button.colab-df-convert');\n",
              "      buttonEl.style.display =\n",
              "        google.colab.kernel.accessAllowed ? 'block' : 'none';\n",
              "\n",
              "      async function convertToInteractive(key) {\n",
              "        const element = document.querySelector('#df-4600fe5d-f1e6-4131-8d86-f028f357c065');\n",
              "        const dataTable =\n",
              "          await google.colab.kernel.invokeFunction('convertToInteractive',\n",
              "                                                    [key], {});\n",
              "        if (!dataTable) return;\n",
              "\n",
              "        const docLinkHtml = 'Like what you see? Visit the ' +\n",
              "          '<a target=\"_blank\" href=https://colab.research.google.com/notebooks/data_table.ipynb>data table notebook</a>'\n",
              "          + ' to learn more about interactive tables.';\n",
              "        element.innerHTML = '';\n",
              "        dataTable['output_type'] = 'display_data';\n",
              "        await google.colab.output.renderOutput(dataTable, element);\n",
              "        const docLink = document.createElement('div');\n",
              "        docLink.innerHTML = docLinkHtml;\n",
              "        element.appendChild(docLink);\n",
              "      }\n",
              "    </script>\n",
              "  </div>\n",
              "\n",
              "\n",
              "<div id=\"df-bfba9cc2-5bb8-4657-aba2-ed3304ea9fe5\">\n",
              "  <button class=\"colab-df-quickchart\" onclick=\"quickchart('df-bfba9cc2-5bb8-4657-aba2-ed3304ea9fe5')\"\n",
              "            title=\"Suggest charts\"\n",
              "            style=\"display:none;\">\n",
              "\n",
              "<svg xmlns=\"http://www.w3.org/2000/svg\" height=\"24px\"viewBox=\"0 0 24 24\"\n",
              "     width=\"24px\">\n",
              "    <g>\n",
              "        <path d=\"M19 3H5c-1.1 0-2 .9-2 2v14c0 1.1.9 2 2 2h14c1.1 0 2-.9 2-2V5c0-1.1-.9-2-2-2zM9 17H7v-7h2v7zm4 0h-2V7h2v10zm4 0h-2v-4h2v4z\"/>\n",
              "    </g>\n",
              "</svg>\n",
              "  </button>\n",
              "\n",
              "<style>\n",
              "  .colab-df-quickchart {\n",
              "      --bg-color: #E8F0FE;\n",
              "      --fill-color: #1967D2;\n",
              "      --hover-bg-color: #E2EBFA;\n",
              "      --hover-fill-color: #174EA6;\n",
              "      --disabled-fill-color: #AAA;\n",
              "      --disabled-bg-color: #DDD;\n",
              "  }\n",
              "\n",
              "  [theme=dark] .colab-df-quickchart {\n",
              "      --bg-color: #3B4455;\n",
              "      --fill-color: #D2E3FC;\n",
              "      --hover-bg-color: #434B5C;\n",
              "      --hover-fill-color: #FFFFFF;\n",
              "      --disabled-bg-color: #3B4455;\n",
              "      --disabled-fill-color: #666;\n",
              "  }\n",
              "\n",
              "  .colab-df-quickchart {\n",
              "    background-color: var(--bg-color);\n",
              "    border: none;\n",
              "    border-radius: 50%;\n",
              "    cursor: pointer;\n",
              "    display: none;\n",
              "    fill: var(--fill-color);\n",
              "    height: 32px;\n",
              "    padding: 0;\n",
              "    width: 32px;\n",
              "  }\n",
              "\n",
              "  .colab-df-quickchart:hover {\n",
              "    background-color: var(--hover-bg-color);\n",
              "    box-shadow: 0 1px 2px rgba(60, 64, 67, 0.3), 0 1px 3px 1px rgba(60, 64, 67, 0.15);\n",
              "    fill: var(--button-hover-fill-color);\n",
              "  }\n",
              "\n",
              "  .colab-df-quickchart-complete:disabled,\n",
              "  .colab-df-quickchart-complete:disabled:hover {\n",
              "    background-color: var(--disabled-bg-color);\n",
              "    fill: var(--disabled-fill-color);\n",
              "    box-shadow: none;\n",
              "  }\n",
              "\n",
              "  .colab-df-spinner {\n",
              "    border: 2px solid var(--fill-color);\n",
              "    border-color: transparent;\n",
              "    border-bottom-color: var(--fill-color);\n",
              "    animation:\n",
              "      spin 1s steps(1) infinite;\n",
              "  }\n",
              "\n",
              "  @keyframes spin {\n",
              "    0% {\n",
              "      border-color: transparent;\n",
              "      border-bottom-color: var(--fill-color);\n",
              "      border-left-color: var(--fill-color);\n",
              "    }\n",
              "    20% {\n",
              "      border-color: transparent;\n",
              "      border-left-color: var(--fill-color);\n",
              "      border-top-color: var(--fill-color);\n",
              "    }\n",
              "    30% {\n",
              "      border-color: transparent;\n",
              "      border-left-color: var(--fill-color);\n",
              "      border-top-color: var(--fill-color);\n",
              "      border-right-color: var(--fill-color);\n",
              "    }\n",
              "    40% {\n",
              "      border-color: transparent;\n",
              "      border-right-color: var(--fill-color);\n",
              "      border-top-color: var(--fill-color);\n",
              "    }\n",
              "    60% {\n",
              "      border-color: transparent;\n",
              "      border-right-color: var(--fill-color);\n",
              "    }\n",
              "    80% {\n",
              "      border-color: transparent;\n",
              "      border-right-color: var(--fill-color);\n",
              "      border-bottom-color: var(--fill-color);\n",
              "    }\n",
              "    90% {\n",
              "      border-color: transparent;\n",
              "      border-bottom-color: var(--fill-color);\n",
              "    }\n",
              "  }\n",
              "</style>\n",
              "\n",
              "  <script>\n",
              "    async function quickchart(key) {\n",
              "      const quickchartButtonEl =\n",
              "        document.querySelector('#' + key + ' button');\n",
              "      quickchartButtonEl.disabled = true;  // To prevent multiple clicks.\n",
              "      quickchartButtonEl.classList.add('colab-df-spinner');\n",
              "      try {\n",
              "        const charts = await google.colab.kernel.invokeFunction(\n",
              "            'suggestCharts', [key], {});\n",
              "      } catch (error) {\n",
              "        console.error('Error during call to suggestCharts:', error);\n",
              "      }\n",
              "      quickchartButtonEl.classList.remove('colab-df-spinner');\n",
              "      quickchartButtonEl.classList.add('colab-df-quickchart-complete');\n",
              "    }\n",
              "    (() => {\n",
              "      let quickchartButtonEl =\n",
              "        document.querySelector('#df-bfba9cc2-5bb8-4657-aba2-ed3304ea9fe5 button');\n",
              "      quickchartButtonEl.style.display =\n",
              "        google.colab.kernel.accessAllowed ? 'block' : 'none';\n",
              "    })();\n",
              "  </script>\n",
              "</div>\n",
              "\n",
              "    </div>\n",
              "  </div>\n"
            ],
            "application/vnd.google.colaboratory.intrinsic+json": {
              "type": "dataframe",
              "variable_name": "data",
              "summary": "{\n  \"name\": \"data\",\n  \"rows\": 100,\n  \"fields\": [\n    {\n      \"column\": \"Unnamed: 0\",\n      \"properties\": {\n        \"dtype\": \"number\",\n        \"std\": 6,\n        \"min\": 0,\n        \"max\": 26,\n        \"num_unique_values\": 27,\n        \"samples\": [\n          8,\n          13,\n          9\n        ],\n        \"semantic_type\": \"\",\n        \"description\": \"\"\n      }\n    },\n    {\n      \"column\": \"S.No\",\n      \"properties\": {\n        \"dtype\": \"number\",\n        \"std\": 7,\n        \"min\": 1,\n        \"max\": 30,\n        \"num_unique_values\": 30,\n        \"samples\": [\n          17,\n          20,\n          28\n        ],\n        \"semantic_type\": \"\",\n        \"description\": \"\"\n      }\n    },\n    {\n      \"column\": \"USERNAME\",\n      \"properties\": {\n        \"dtype\": \"string\",\n        \"num_unique_values\": 95,\n        \"samples\": [\n          \"bitcoinebook\",\n          \"onthetopsearch\",\n          \"lpsahil\"\n        ],\n        \"semantic_type\": \"\",\n        \"description\": \"\"\n      }\n    },\n    {\n      \"column\": \"Caption\",\n      \"properties\": {\n        \"dtype\": \"string\",\n        \"num_unique_values\": 94,\n        \"samples\": [\n          \"Together with my colleague Valery we introduced potential partners to\\u00c2\\u00a0#Azure\\u00c2\\u00a0@spacesworks\\u00c2\\u00a0#zuidas. It's great to see there's such an interest in Data & AI, and a lot of fun to come up with new ways to apply it with these companies. \\u00f0\\u009f\\u00a4\\u0093\",\n          \"\\u00e2\\u0080\\u009cNo one buys things from Facebook.\\u00e2\\u0080\\u009d \\u00e2\\u0080\\u009cInstagram is a fad.\\u00e2\\u0080\\u009d \\u00e2\\u0080\\u009cSnapchat will soon be gone.\\u00e2\\u0080\\u009d We didn\\u00e2\\u0080\\u0099t buy into what traditional marketing agencies said and our clients have reaped the benefits. Now, traditional marketers are scrambling to learn what we have been doing for years.At On The Top Search, we don\\u00e2\\u0080\\u0099t quit. Ever. We will go to exhaustive measures to ensure your experience with us has a positive ROI. If not, drop us.\",\n          \"Recently, computer scientists have been working on teaching machines to do a wider range of tasks around the house. In a new paper spearheaded by MIT's Computer Science and Artificial Intelligence Laboratory (CSAIL) and the University of Toronto, researchers demonstrate \\\"VirtualHome,\\\" a system that can simulate detailed household tasks and then have artificial \\\"agents\\\" execute them, opening up the possibility of one day teaching robots to do such tasks.\"\n        ],\n        \"semantic_type\": \"\",\n        \"description\": \"\"\n      }\n    },\n    {\n      \"column\": \"Followers\",\n      \"properties\": {\n        \"dtype\": \"number\",\n        \"std\": 1014,\n        \"min\": 11,\n        \"max\": 4496,\n        \"num_unique_values\": 94,\n        \"samples\": [\n          273,\n          1041,\n          3147\n        ],\n        \"semantic_type\": \"\",\n        \"description\": \"\"\n      }\n    },\n    {\n      \"column\": \"Hashtags\",\n      \"properties\": {\n        \"dtype\": \"string\",\n        \"num_unique_values\": 98,\n        \"samples\": [\n          \"#mentoring\\u00c2\\u00a0#enterprenuership\\u00c2\\u00a0#grind#hustle\\u00c2\\u00a0#learn\\u00c2\\u00a0#education\\u00c2\\u00a0#startup#dreamwork\\u00c2\\u00a0#successquotes\\u00c2\\u00a0#build#empire\\u00c2\\u00a0#startuplife\\u00c2\\u00a0#businessowners#ambition\\u00c2\\u00a0#dreams\\u00c2\\u00a0#goals\\u00c2\\u00a0#lifegoals#goforit\\u00c2\\u00a0#nevergiveup\\u00c2\\u00a0#sucessmindset#businesswoman\\u00c2\\u00a0#businessman#businesslife\\u00c2\\u00a0#enterpreneurlifestyle#goodlife\\u00c2\\u00a0#motivated\\u00c2\\u00a0#enterpreneurmindset#millionairemindset\",\n          \"#ai #artificialintelligence\",\n          \"#workspace\\u00c2\\u00a0#work\\u00c2\\u00a0#developer#development\\u00c2\\u00a0#developerlife\\u00c2\\u00a0#apple\\u00c2\\u00a0#imac#macbook\\u00c2\\u00a0#macbookpro\\u00c2\\u00a0#blackandwhite#coder\\u00c2\\u00a0#code\\u00c2\\u00a0#coding\\u00c2\\u00a0#html\\u00c2\\u00a0#css\\u00c2\\u00a0#php#wordpress\\u00c2\\u00a0#javascript\\u00c2\\u00a0#dvlp_search\\u00c2\\u00a0#linux#ubuntu\\u00c2\\u00a0#webdeveloper\\u00c2\\u00a0#webdev#webdevelopment\\u00c2\\u00a0#dev\\u00c2\\u00a0#coder\\u00c2\\u00a0#coding#code\"\n        ],\n        \"semantic_type\": \"\",\n        \"description\": \"\"\n      }\n    },\n    {\n      \"column\": \"Time since posted\",\n      \"properties\": {\n        \"dtype\": \"category\",\n        \"num_unique_values\": 11,\n        \"samples\": [\n          \"8 hours\",\n          \"11 hours\",\n          \"14 hours\"\n        ],\n        \"semantic_type\": \"\",\n        \"description\": \"\"\n      }\n    },\n    {\n      \"column\": \"Likes\",\n      \"properties\": {\n        \"dtype\": \"number\",\n        \"std\": 55,\n        \"min\": 8,\n        \"max\": 349,\n        \"num_unique_values\": 55,\n        \"samples\": [\n          24,\n          18,\n          136\n        ],\n        \"semantic_type\": \"\",\n        \"description\": \"\"\n      }\n    }\n  ]\n}"
            }
          },
          "metadata": {},
          "execution_count": 32
        }
      ]
    },
    {
      "cell_type": "code",
      "source": [
        "data.shape"
      ],
      "metadata": {
        "colab": {
          "base_uri": "https://localhost:8080/"
        },
        "id": "-NsyO8mVURG9",
        "outputId": "83089af1-0e2e-4bb9-c477-78494b0c440a"
      },
      "execution_count": 33,
      "outputs": [
        {
          "output_type": "execute_result",
          "data": {
            "text/plain": [
              "(100, 8)"
            ]
          },
          "metadata": {},
          "execution_count": 33
        }
      ]
    },
    {
      "cell_type": "code",
      "source": [
        "data.info()\n"
      ],
      "metadata": {
        "id": "biQ8W8SQUSR-"
      },
      "execution_count": null,
      "outputs": []
    },
    {
      "cell_type": "code",
      "source": [
        "data.isnull().sum()\n"
      ],
      "metadata": {
        "id": "kKXuoQyrUSPZ"
      },
      "execution_count": null,
      "outputs": []
    },
    {
      "cell_type": "code",
      "source": [
        "data = data.dropna()\n"
      ],
      "metadata": {
        "id": "4mYzMEoBUSNO"
      },
      "execution_count": null,
      "outputs": []
    },
    {
      "cell_type": "code",
      "source": [
        "data.isnull().sum()\n"
      ],
      "metadata": {
        "id": "EG1P7nsgUSK-"
      },
      "execution_count": null,
      "outputs": []
    },
    {
      "cell_type": "code",
      "source": [
        "data.columns\n"
      ],
      "metadata": {
        "id": "8y-cLvnLUSIm"
      },
      "execution_count": null,
      "outputs": []
    },
    {
      "cell_type": "code",
      "source": [
        "data.head(2)\n"
      ],
      "metadata": {
        "id": "gZpeeP1EUSFa"
      },
      "execution_count": null,
      "outputs": []
    },
    {
      "cell_type": "code",
      "source": [
        "data= data.drop(['Unnamed: 0', 'S.No'], axis=1)"
      ],
      "metadata": {
        "id": "uGK7enibUSCi"
      },
      "execution_count": null,
      "outputs": []
    },
    {
      "cell_type": "code",
      "source": [
        "data.columns\n"
      ],
      "metadata": {
        "id": "BOtHxvGWUR_J"
      },
      "execution_count": null,
      "outputs": []
    },
    {
      "cell_type": "code",
      "source": [
        "data.head(3)\n"
      ],
      "metadata": {
        "id": "IX8qTwjYUR7w"
      },
      "execution_count": null,
      "outputs": []
    },
    {
      "cell_type": "code",
      "source": [
        "plt.figure(figsize=(10, 8))\n",
        "plt.style.use('fivethirtyeight')\n",
        "plt.title(\"Distribution of Impressions From Followers\")\n",
        "sns.distplot(data['Followers'])\n",
        "plt.show()"
      ],
      "metadata": {
        "id": "4uZJOHE7URzz"
      },
      "execution_count": null,
      "outputs": []
    },
    {
      "cell_type": "code",
      "source": [
        "plt.figure(figsize=(10, 8))\n",
        "plt.title(\"Distribution of Impressions From Likes\")\n",
        "sns.distplot(data['Likes'])\n",
        "plt.show()"
      ],
      "metadata": {
        "id": "JfeKA-1xVz24"
      },
      "execution_count": null,
      "outputs": []
    },
    {
      "cell_type": "code",
      "source": [
        "followers = data[\"Followers\"].sum()\n",
        "likes = data[\"Likes\"].sum()\n",
        "\n",
        "labels = ['Followers', 'Likes']\n",
        "values = [followers, likes]\n",
        "\n",
        "fig = px.pie(data, values=values, names=labels,\n",
        "             title='Impressions on Instagram Posts From Various Sources', hole=0.5)\n",
        "fig.show()"
      ],
      "metadata": {
        "id": "hY8iGN8CVz0S"
      },
      "execution_count": null,
      "outputs": []
    },
    {
      "cell_type": "code",
      "source": [
        "text = \" \".join(i for i in data.Hashtags)\n",
        "stopwords = set(STOPWORDS)\n",
        "wordcloud = WordCloud(stopwords=stopwords, background_color=\"white\").generate(text)\n",
        "plt.style.use('classic')\n",
        "plt.figure( figsize=(12,10))\n",
        "plt.imshow(wordcloud, interpolation='bilinear')\n",
        "plt.axis(\"off\")\n",
        "plt.show()\n"
      ],
      "metadata": {
        "id": "3lVHeSPJVzyO"
      },
      "execution_count": null,
      "outputs": []
    },
    {
      "cell_type": "code",
      "source": [
        "figure = px.scatter(data_frame = data, x=\"Likes\",\n",
        "                    y=\"Followers\", trendline=\"ols\",\n",
        "                    title = \"Relationship Between Likes and Followers\")\n",
        "figure.show()"
      ],
      "metadata": {
        "id": "0uX6rAIKVzu_"
      },
      "execution_count": null,
      "outputs": []
    },
    {
      "cell_type": "code",
      "source": [
        "features = ['USERNAME', 'Caption', 'Hashtags', 'Followers']\n",
        "target_likes = 'Likes'\n",
        "target_time_since_posted = 'Time since posted'"
      ],
      "metadata": {
        "id": "k2nC0_EEVzsr"
      },
      "execution_count": null,
      "outputs": []
    },
    {
      "cell_type": "code",
      "source": [
        "X = data[features]\n",
        "y_likes = data[target_likes]\n",
        "y_time_since_posted = data[target_time_since_posted]\n",
        "X_train, X_test, y_likes_train, y_likes_test, y_time_since_posted_train, y_time_since_posted_test = train_test_split(X, y_likes, y_time_since_posted, test_size=0.2, random_state=42)"
      ],
      "metadata": {
        "id": "OJPNz75tVzqD"
      },
      "execution_count": null,
      "outputs": []
    },
    {
      "cell_type": "code",
      "source": [
        "encoder = OneHotEncoder(sparse=False, handle_unknown='ignore')\n",
        "X_train_encoded = encoder.fit_transform(X_train)\n",
        "X_test_encoded = encoder.transform(X_test)"
      ],
      "metadata": {
        "id": "PuyYNSZJVznb"
      },
      "execution_count": null,
      "outputs": []
    },
    {
      "cell_type": "code",
      "source": [
        "# Train a model to predict the number of likes\n",
        "likes_model = LinearRegression()\n",
        "likes_model.fit(X_train_encoded, y_likes_train)\n",
        "likes_predictions = likes_model.predict(X_test_encoded)\n",
        "likes_mse = mean_squared_error(y_likes_test, likes_predictions)\n",
        "print(\"Mean Squared Error (Likes):\", likes_mse)"
      ],
      "metadata": {
        "id": "aS1Cn0zMVzko"
      },
      "execution_count": null,
      "outputs": []
    },
    {
      "cell_type": "code",
      "source": [
        "# Preprocess the time since posted variable\n",
        "def extract_numerical_value(time_string):\n",
        "    numerical_value = re.findall(r'\\d+', time_string)[0]\n",
        "    return int(numerical_value)"
      ],
      "metadata": {
        "id": "sM4vUwHYVziK"
      },
      "execution_count": null,
      "outputs": []
    },
    {
      "cell_type": "code",
      "source": [
        "y_time_since_posted_train = y_time_since_posted_train.apply(extract_numerical_value)\n",
        "y_time_since_posted_test = y_time_since_posted_test.apply(extract_numerical_value)\n"
      ],
      "metadata": {
        "id": "a5zo4EJAVzdO"
      },
      "execution_count": null,
      "outputs": []
    },
    {
      "cell_type": "markdown",
      "source": [
        "**Question: 2**\n",
        "\n",
        "Train an SVM regressor on : Bengaluru housing dataset\n",
        "    Must include in details:\n",
        "  - EDA\n",
        "  - Feature engineering"
      ],
      "metadata": {
        "id": "TXwZet4YY2E1"
      }
    },
    {
      "cell_type": "code",
      "source": [
        "import numpy as np\n",
        "import pandas as pd\n",
        "import matplotlib.pyplot as plt\n",
        "import seaborn as sns\n",
        ""
      ],
      "metadata": {
        "id": "1_jWK9qPVzaX"
      },
      "execution_count": 34,
      "outputs": []
    },
    {
      "cell_type": "code",
      "source": [
        "pd.set_option(\"display.max_columns\", None)\n",
        "pd.set_option(\"display.max_rows\", None)"
      ],
      "metadata": {
        "id": "nCdD292mVzXk"
      },
      "execution_count": 35,
      "outputs": []
    },
    {
      "cell_type": "code",
      "source": [
        "path = r\"/content/sample_data/Bengaluru_House_Data.csv\"\n",
        "df = pd.read_csv(path)\n",
        "df.shape\n",
        ""
      ],
      "metadata": {
        "colab": {
          "base_uri": "https://localhost:8080/"
        },
        "id": "KdsuhflmVzRY",
        "outputId": "878b3971-3508-4bb0-9d7a-3e81d728f8ae"
      },
      "execution_count": 36,
      "outputs": [
        {
          "output_type": "execute_result",
          "data": {
            "text/plain": [
              "(13320, 9)"
            ]
          },
          "metadata": {},
          "execution_count": 36
        }
      ]
    },
    {
      "cell_type": "code",
      "source": [
        "df.shape\n"
      ],
      "metadata": {
        "colab": {
          "base_uri": "https://localhost:8080/"
        },
        "id": "BnodezuuURoX",
        "outputId": "e3ea427d-a2bd-45f9-91ff-112f826e005b"
      },
      "execution_count": 37,
      "outputs": [
        {
          "output_type": "execute_result",
          "data": {
            "text/plain": [
              "(13320, 9)"
            ]
          },
          "metadata": {},
          "execution_count": 37
        }
      ]
    },
    {
      "cell_type": "code",
      "source": [
        "df.head()\n"
      ],
      "metadata": {
        "colab": {
          "base_uri": "https://localhost:8080/",
          "height": 206
        },
        "id": "9d0rLSTRZ553",
        "outputId": "4f2a99fa-d6f5-416a-e00e-54315e1f07e9"
      },
      "execution_count": 38,
      "outputs": [
        {
          "output_type": "execute_result",
          "data": {
            "text/plain": [
              "              area_type   availability                  location       size  \\\n",
              "0  Super built-up  Area         19-Dec  Electronic City Phase II      2 BHK   \n",
              "1            Plot  Area  Ready To Move          Chikka Tirupathi  4 Bedroom   \n",
              "2        Built-up  Area  Ready To Move               Uttarahalli      3 BHK   \n",
              "3  Super built-up  Area  Ready To Move        Lingadheeranahalli      3 BHK   \n",
              "4  Super built-up  Area  Ready To Move                  Kothanur      2 BHK   \n",
              "\n",
              "   society total_sqft  bath  balcony   price  \n",
              "0  Coomee        1056   2.0      1.0   39.07  \n",
              "1  Theanmp       2600   5.0      3.0  120.00  \n",
              "2      NaN       1440   2.0      3.0   62.00  \n",
              "3  Soiewre       1521   3.0      1.0   95.00  \n",
              "4      NaN       1200   2.0      1.0   51.00  "
            ],
            "text/html": [
              "\n",
              "  <div id=\"df-78e3ed8d-5b67-46c1-8b2b-fba8ae419bcd\" class=\"colab-df-container\">\n",
              "    <div>\n",
              "<style scoped>\n",
              "    .dataframe tbody tr th:only-of-type {\n",
              "        vertical-align: middle;\n",
              "    }\n",
              "\n",
              "    .dataframe tbody tr th {\n",
              "        vertical-align: top;\n",
              "    }\n",
              "\n",
              "    .dataframe thead th {\n",
              "        text-align: right;\n",
              "    }\n",
              "</style>\n",
              "<table border=\"1\" class=\"dataframe\">\n",
              "  <thead>\n",
              "    <tr style=\"text-align: right;\">\n",
              "      <th></th>\n",
              "      <th>area_type</th>\n",
              "      <th>availability</th>\n",
              "      <th>location</th>\n",
              "      <th>size</th>\n",
              "      <th>society</th>\n",
              "      <th>total_sqft</th>\n",
              "      <th>bath</th>\n",
              "      <th>balcony</th>\n",
              "      <th>price</th>\n",
              "    </tr>\n",
              "  </thead>\n",
              "  <tbody>\n",
              "    <tr>\n",
              "      <th>0</th>\n",
              "      <td>Super built-up  Area</td>\n",
              "      <td>19-Dec</td>\n",
              "      <td>Electronic City Phase II</td>\n",
              "      <td>2 BHK</td>\n",
              "      <td>Coomee</td>\n",
              "      <td>1056</td>\n",
              "      <td>2.0</td>\n",
              "      <td>1.0</td>\n",
              "      <td>39.07</td>\n",
              "    </tr>\n",
              "    <tr>\n",
              "      <th>1</th>\n",
              "      <td>Plot  Area</td>\n",
              "      <td>Ready To Move</td>\n",
              "      <td>Chikka Tirupathi</td>\n",
              "      <td>4 Bedroom</td>\n",
              "      <td>Theanmp</td>\n",
              "      <td>2600</td>\n",
              "      <td>5.0</td>\n",
              "      <td>3.0</td>\n",
              "      <td>120.00</td>\n",
              "    </tr>\n",
              "    <tr>\n",
              "      <th>2</th>\n",
              "      <td>Built-up  Area</td>\n",
              "      <td>Ready To Move</td>\n",
              "      <td>Uttarahalli</td>\n",
              "      <td>3 BHK</td>\n",
              "      <td>NaN</td>\n",
              "      <td>1440</td>\n",
              "      <td>2.0</td>\n",
              "      <td>3.0</td>\n",
              "      <td>62.00</td>\n",
              "    </tr>\n",
              "    <tr>\n",
              "      <th>3</th>\n",
              "      <td>Super built-up  Area</td>\n",
              "      <td>Ready To Move</td>\n",
              "      <td>Lingadheeranahalli</td>\n",
              "      <td>3 BHK</td>\n",
              "      <td>Soiewre</td>\n",
              "      <td>1521</td>\n",
              "      <td>3.0</td>\n",
              "      <td>1.0</td>\n",
              "      <td>95.00</td>\n",
              "    </tr>\n",
              "    <tr>\n",
              "      <th>4</th>\n",
              "      <td>Super built-up  Area</td>\n",
              "      <td>Ready To Move</td>\n",
              "      <td>Kothanur</td>\n",
              "      <td>2 BHK</td>\n",
              "      <td>NaN</td>\n",
              "      <td>1200</td>\n",
              "      <td>2.0</td>\n",
              "      <td>1.0</td>\n",
              "      <td>51.00</td>\n",
              "    </tr>\n",
              "  </tbody>\n",
              "</table>\n",
              "</div>\n",
              "    <div class=\"colab-df-buttons\">\n",
              "\n",
              "  <div class=\"colab-df-container\">\n",
              "    <button class=\"colab-df-convert\" onclick=\"convertToInteractive('df-78e3ed8d-5b67-46c1-8b2b-fba8ae419bcd')\"\n",
              "            title=\"Convert this dataframe to an interactive table.\"\n",
              "            style=\"display:none;\">\n",
              "\n",
              "  <svg xmlns=\"http://www.w3.org/2000/svg\" height=\"24px\" viewBox=\"0 -960 960 960\">\n",
              "    <path d=\"M120-120v-720h720v720H120Zm60-500h600v-160H180v160Zm220 220h160v-160H400v160Zm0 220h160v-160H400v160ZM180-400h160v-160H180v160Zm440 0h160v-160H620v160ZM180-180h160v-160H180v160Zm440 0h160v-160H620v160Z\"/>\n",
              "  </svg>\n",
              "    </button>\n",
              "\n",
              "  <style>\n",
              "    .colab-df-container {\n",
              "      display:flex;\n",
              "      gap: 12px;\n",
              "    }\n",
              "\n",
              "    .colab-df-convert {\n",
              "      background-color: #E8F0FE;\n",
              "      border: none;\n",
              "      border-radius: 50%;\n",
              "      cursor: pointer;\n",
              "      display: none;\n",
              "      fill: #1967D2;\n",
              "      height: 32px;\n",
              "      padding: 0 0 0 0;\n",
              "      width: 32px;\n",
              "    }\n",
              "\n",
              "    .colab-df-convert:hover {\n",
              "      background-color: #E2EBFA;\n",
              "      box-shadow: 0px 1px 2px rgba(60, 64, 67, 0.3), 0px 1px 3px 1px rgba(60, 64, 67, 0.15);\n",
              "      fill: #174EA6;\n",
              "    }\n",
              "\n",
              "    .colab-df-buttons div {\n",
              "      margin-bottom: 4px;\n",
              "    }\n",
              "\n",
              "    [theme=dark] .colab-df-convert {\n",
              "      background-color: #3B4455;\n",
              "      fill: #D2E3FC;\n",
              "    }\n",
              "\n",
              "    [theme=dark] .colab-df-convert:hover {\n",
              "      background-color: #434B5C;\n",
              "      box-shadow: 0px 1px 3px 1px rgba(0, 0, 0, 0.15);\n",
              "      filter: drop-shadow(0px 1px 2px rgba(0, 0, 0, 0.3));\n",
              "      fill: #FFFFFF;\n",
              "    }\n",
              "  </style>\n",
              "\n",
              "    <script>\n",
              "      const buttonEl =\n",
              "        document.querySelector('#df-78e3ed8d-5b67-46c1-8b2b-fba8ae419bcd button.colab-df-convert');\n",
              "      buttonEl.style.display =\n",
              "        google.colab.kernel.accessAllowed ? 'block' : 'none';\n",
              "\n",
              "      async function convertToInteractive(key) {\n",
              "        const element = document.querySelector('#df-78e3ed8d-5b67-46c1-8b2b-fba8ae419bcd');\n",
              "        const dataTable =\n",
              "          await google.colab.kernel.invokeFunction('convertToInteractive',\n",
              "                                                    [key], {});\n",
              "        if (!dataTable) return;\n",
              "\n",
              "        const docLinkHtml = 'Like what you see? Visit the ' +\n",
              "          '<a target=\"_blank\" href=https://colab.research.google.com/notebooks/data_table.ipynb>data table notebook</a>'\n",
              "          + ' to learn more about interactive tables.';\n",
              "        element.innerHTML = '';\n",
              "        dataTable['output_type'] = 'display_data';\n",
              "        await google.colab.output.renderOutput(dataTable, element);\n",
              "        const docLink = document.createElement('div');\n",
              "        docLink.innerHTML = docLinkHtml;\n",
              "        element.appendChild(docLink);\n",
              "      }\n",
              "    </script>\n",
              "  </div>\n",
              "\n",
              "\n",
              "<div id=\"df-5e038979-711a-4842-a252-ece5c1243db3\">\n",
              "  <button class=\"colab-df-quickchart\" onclick=\"quickchart('df-5e038979-711a-4842-a252-ece5c1243db3')\"\n",
              "            title=\"Suggest charts\"\n",
              "            style=\"display:none;\">\n",
              "\n",
              "<svg xmlns=\"http://www.w3.org/2000/svg\" height=\"24px\"viewBox=\"0 0 24 24\"\n",
              "     width=\"24px\">\n",
              "    <g>\n",
              "        <path d=\"M19 3H5c-1.1 0-2 .9-2 2v14c0 1.1.9 2 2 2h14c1.1 0 2-.9 2-2V5c0-1.1-.9-2-2-2zM9 17H7v-7h2v7zm4 0h-2V7h2v10zm4 0h-2v-4h2v4z\"/>\n",
              "    </g>\n",
              "</svg>\n",
              "  </button>\n",
              "\n",
              "<style>\n",
              "  .colab-df-quickchart {\n",
              "      --bg-color: #E8F0FE;\n",
              "      --fill-color: #1967D2;\n",
              "      --hover-bg-color: #E2EBFA;\n",
              "      --hover-fill-color: #174EA6;\n",
              "      --disabled-fill-color: #AAA;\n",
              "      --disabled-bg-color: #DDD;\n",
              "  }\n",
              "\n",
              "  [theme=dark] .colab-df-quickchart {\n",
              "      --bg-color: #3B4455;\n",
              "      --fill-color: #D2E3FC;\n",
              "      --hover-bg-color: #434B5C;\n",
              "      --hover-fill-color: #FFFFFF;\n",
              "      --disabled-bg-color: #3B4455;\n",
              "      --disabled-fill-color: #666;\n",
              "  }\n",
              "\n",
              "  .colab-df-quickchart {\n",
              "    background-color: var(--bg-color);\n",
              "    border: none;\n",
              "    border-radius: 50%;\n",
              "    cursor: pointer;\n",
              "    display: none;\n",
              "    fill: var(--fill-color);\n",
              "    height: 32px;\n",
              "    padding: 0;\n",
              "    width: 32px;\n",
              "  }\n",
              "\n",
              "  .colab-df-quickchart:hover {\n",
              "    background-color: var(--hover-bg-color);\n",
              "    box-shadow: 0 1px 2px rgba(60, 64, 67, 0.3), 0 1px 3px 1px rgba(60, 64, 67, 0.15);\n",
              "    fill: var(--button-hover-fill-color);\n",
              "  }\n",
              "\n",
              "  .colab-df-quickchart-complete:disabled,\n",
              "  .colab-df-quickchart-complete:disabled:hover {\n",
              "    background-color: var(--disabled-bg-color);\n",
              "    fill: var(--disabled-fill-color);\n",
              "    box-shadow: none;\n",
              "  }\n",
              "\n",
              "  .colab-df-spinner {\n",
              "    border: 2px solid var(--fill-color);\n",
              "    border-color: transparent;\n",
              "    border-bottom-color: var(--fill-color);\n",
              "    animation:\n",
              "      spin 1s steps(1) infinite;\n",
              "  }\n",
              "\n",
              "  @keyframes spin {\n",
              "    0% {\n",
              "      border-color: transparent;\n",
              "      border-bottom-color: var(--fill-color);\n",
              "      border-left-color: var(--fill-color);\n",
              "    }\n",
              "    20% {\n",
              "      border-color: transparent;\n",
              "      border-left-color: var(--fill-color);\n",
              "      border-top-color: var(--fill-color);\n",
              "    }\n",
              "    30% {\n",
              "      border-color: transparent;\n",
              "      border-left-color: var(--fill-color);\n",
              "      border-top-color: var(--fill-color);\n",
              "      border-right-color: var(--fill-color);\n",
              "    }\n",
              "    40% {\n",
              "      border-color: transparent;\n",
              "      border-right-color: var(--fill-color);\n",
              "      border-top-color: var(--fill-color);\n",
              "    }\n",
              "    60% {\n",
              "      border-color: transparent;\n",
              "      border-right-color: var(--fill-color);\n",
              "    }\n",
              "    80% {\n",
              "      border-color: transparent;\n",
              "      border-right-color: var(--fill-color);\n",
              "      border-bottom-color: var(--fill-color);\n",
              "    }\n",
              "    90% {\n",
              "      border-color: transparent;\n",
              "      border-bottom-color: var(--fill-color);\n",
              "    }\n",
              "  }\n",
              "</style>\n",
              "\n",
              "  <script>\n",
              "    async function quickchart(key) {\n",
              "      const quickchartButtonEl =\n",
              "        document.querySelector('#' + key + ' button');\n",
              "      quickchartButtonEl.disabled = true;  // To prevent multiple clicks.\n",
              "      quickchartButtonEl.classList.add('colab-df-spinner');\n",
              "      try {\n",
              "        const charts = await google.colab.kernel.invokeFunction(\n",
              "            'suggestCharts', [key], {});\n",
              "      } catch (error) {\n",
              "        console.error('Error during call to suggestCharts:', error);\n",
              "      }\n",
              "      quickchartButtonEl.classList.remove('colab-df-spinner');\n",
              "      quickchartButtonEl.classList.add('colab-df-quickchart-complete');\n",
              "    }\n",
              "    (() => {\n",
              "      let quickchartButtonEl =\n",
              "        document.querySelector('#df-5e038979-711a-4842-a252-ece5c1243db3 button');\n",
              "      quickchartButtonEl.style.display =\n",
              "        google.colab.kernel.accessAllowed ? 'block' : 'none';\n",
              "    })();\n",
              "  </script>\n",
              "</div>\n",
              "\n",
              "    </div>\n",
              "  </div>\n"
            ],
            "application/vnd.google.colaboratory.intrinsic+json": {
              "type": "dataframe",
              "variable_name": "df",
              "summary": "{\n  \"name\": \"df\",\n  \"rows\": 13320,\n  \"fields\": [\n    {\n      \"column\": \"area_type\",\n      \"properties\": {\n        \"dtype\": \"category\",\n        \"num_unique_values\": 4,\n        \"samples\": [\n          \"Plot  Area\",\n          \"Carpet  Area\",\n          \"Super built-up  Area\"\n        ],\n        \"semantic_type\": \"\",\n        \"description\": \"\"\n      }\n    },\n    {\n      \"column\": \"availability\",\n      \"properties\": {\n        \"dtype\": \"category\",\n        \"num_unique_values\": 81,\n        \"samples\": [\n          \"18-Sep\",\n          \"19-Dec\",\n          \"22-Jan\"\n        ],\n        \"semantic_type\": \"\",\n        \"description\": \"\"\n      }\n    },\n    {\n      \"column\": \"location\",\n      \"properties\": {\n        \"dtype\": \"category\",\n        \"num_unique_values\": 1305,\n        \"samples\": [\n          \"Ashok Nagar\",\n          \"Maruthi Nagar\",\n          \"CQAL Layout\"\n        ],\n        \"semantic_type\": \"\",\n        \"description\": \"\"\n      }\n    },\n    {\n      \"column\": \"size\",\n      \"properties\": {\n        \"dtype\": \"category\",\n        \"num_unique_values\": 31,\n        \"samples\": [\n          \"8 BHK\",\n          \"5 Bedroom\",\n          \"19 BHK\"\n        ],\n        \"semantic_type\": \"\",\n        \"description\": \"\"\n      }\n    },\n    {\n      \"column\": \"society\",\n      \"properties\": {\n        \"dtype\": \"category\",\n        \"num_unique_values\": 2688,\n        \"samples\": [\n          \"DStra S\",\n          \"Aples M\",\n          \"JahanSa\"\n        ],\n        \"semantic_type\": \"\",\n        \"description\": \"\"\n      }\n    },\n    {\n      \"column\": \"total_sqft\",\n      \"properties\": {\n        \"dtype\": \"category\",\n        \"num_unique_values\": 2117,\n        \"samples\": [\n          \"5270\",\n          \"832\",\n          \"1145\"\n        ],\n        \"semantic_type\": \"\",\n        \"description\": \"\"\n      }\n    },\n    {\n      \"column\": \"bath\",\n      \"properties\": {\n        \"dtype\": \"number\",\n        \"std\": 1.3414580781243859,\n        \"min\": 1.0,\n        \"max\": 40.0,\n        \"num_unique_values\": 19,\n        \"samples\": [\n          2.0,\n          1.0,\n          14.0\n        ],\n        \"semantic_type\": \"\",\n        \"description\": \"\"\n      }\n    },\n    {\n      \"column\": \"balcony\",\n      \"properties\": {\n        \"dtype\": \"number\",\n        \"std\": 0.8172634299202003,\n        \"min\": 0.0,\n        \"max\": 3.0,\n        \"num_unique_values\": 4,\n        \"samples\": [\n          3.0,\n          0.0,\n          1.0\n        ],\n        \"semantic_type\": \"\",\n        \"description\": \"\"\n      }\n    },\n    {\n      \"column\": \"price\",\n      \"properties\": {\n        \"dtype\": \"number\",\n        \"std\": 148.97167376967403,\n        \"min\": 8.0,\n        \"max\": 3600.0,\n        \"num_unique_values\": 1994,\n        \"samples\": [\n          93.25,\n          33.645,\n          62.55\n        ],\n        \"semantic_type\": \"\",\n        \"description\": \"\"\n      }\n    }\n  ]\n}"
            }
          },
          "metadata": {},
          "execution_count": 38
        }
      ]
    },
    {
      "cell_type": "code",
      "source": [
        "df.shape\n"
      ],
      "metadata": {
        "colab": {
          "base_uri": "https://localhost:8080/"
        },
        "id": "N0IuMDyCZ50L",
        "outputId": "22680092-c19c-41ed-c823-ff7973041c0f"
      },
      "execution_count": 40,
      "outputs": [
        {
          "output_type": "execute_result",
          "data": {
            "text/plain": [
              "(13320, 9)"
            ]
          },
          "metadata": {},
          "execution_count": 40
        }
      ]
    },
    {
      "cell_type": "code",
      "source": [
        "X = df.drop(\"price\", axis=1)\n",
        "y = df['price']\n",
        "print('Shape of X = ', X.shape)\n",
        "print('Shape of y = ', y.shape)"
      ],
      "metadata": {
        "colab": {
          "base_uri": "https://localhost:8080/"
        },
        "id": "nNp3rxycZ5xb",
        "outputId": "fa305595-16b5-46aa-d0d6-4636e73b4539"
      },
      "execution_count": 41,
      "outputs": [
        {
          "output_type": "stream",
          "name": "stdout",
          "text": [
            "Shape of X =  (13320, 8)\n",
            "Shape of y =  (13320,)\n"
          ]
        }
      ]
    },
    {
      "cell_type": "code",
      "source": [
        "from sklearn.model_selection import train_test_split\n",
        "X_train, X_test, y_train, y_test = train_test_split(X, y, test_size = 0.2, random_state = 51)\n",
        "print('Shape of X_train = ', X_train.shape)\n",
        "print('Shape of y_train = ', y_train.shape)\n",
        "print('Shape of X_test = ', X_test.shape)\n",
        "print('Shape of y_test = ', y_test.shape)"
      ],
      "metadata": {
        "colab": {
          "base_uri": "https://localhost:8080/"
        },
        "id": "k-p0AwseZ5u9",
        "outputId": "26e16553-ee18-431d-cb2d-81bd89e8c277"
      },
      "execution_count": 42,
      "outputs": [
        {
          "output_type": "stream",
          "name": "stdout",
          "text": [
            "Shape of X_train =  (10656, 8)\n",
            "Shape of y_train =  (10656,)\n",
            "Shape of X_test =  (2664, 8)\n",
            "Shape of y_test =  (2664,)\n"
          ]
        }
      ]
    },
    {
      "cell_type": "code",
      "source": [
        "from sklearn.preprocessing import StandardScaler\n",
        "sc = StandardScaler()\n",
        "sc.fit(X_train)\n",
        "X_train= sc.transform(X_train)\n",
        "X_test = sc.transform(X_test)"
      ],
      "metadata": {
        "id": "5m21OlplZ5sr"
      },
      "execution_count": null,
      "outputs": []
    },
    {
      "cell_type": "code",
      "source": [
        "from sklearn.svm import SVR\n",
        "svr = SVR()\n",
        "svr.fit(X_train,y_train)\n",
        "svr_score=svr.score(X_test,y_test) # with 0.2630802200711362\n",
        "svr_rmse = rmse(y_test, svr.predict(X_test))\n",
        "svr_score, svr_rmse\n",
        ""
      ],
      "metadata": {
        "id": "4C06wlGbZ5qd"
      },
      "execution_count": null,
      "outputs": []
    },
    {
      "cell_type": "markdown",
      "source": [
        "**Deep Learning :**\n",
        "\n",
        "**Question: 1**\n",
        "\n",
        "(a) Explain how you can implement DL in a real-world application.\n",
        "\n",
        "**Answer:**\n",
        "The process of implementing DL in a real-world application as follows:\n",
        "\n",
        "Define Problem: Clearly outline the problem you want to solve using DL.\n",
        "\n",
        "Data Collection & Preprocessing: Gather and clean relevant data, preparing it for model training.\n",
        "\n",
        "Model Selection: Choose an appropriate DL architecture for your problem (CNNs for images, RNNs for sequential data, etc.).\n",
        "\n",
        "Model Training: Train your model using the collected data, validating and optimizing its performance.\n",
        "\n",
        "Evaluation & Optimization: Assess model performance using validation sets, fine-tuning as necessary.\n",
        "\n",
        "Deployment: Integrate the trained model into real-world systems or platforms for practical use.\n",
        "\n",
        "Monitoring & Maintenance: Continuously monitor model performance and update it as needed to maintain effectiveness.\n",
        "\n",
        "Ethical & Legal Considerations: Ensure the model respects privacy, mitigates bias, and complies with relevant regulations.\n",
        "\n",
        "\n",
        "(b) What is the use of Activation function in Artificial Neural Networks? What would be the problem if we don't use it in ANN networks.\n",
        "\n",
        "**Answer:**\n",
        "Activation functions play a crucial role in artificial neural networks (ANNs) by introducing non-linearity into the model, enabling it to learn complex patterns and relationships within the data. Here's why activation functions are important:\n",
        "\n",
        "Introducing Non-Linearity: Without activation functions, the entire neural network would effectively collapse into a linear regression model, regardless of its depth. Activation functions introduce non-linear transformations to the output of neurons, allowing the network to learn and represent complex relationships in the data.\n",
        "\n",
        "Supporting Complex Decision Boundaries: Many real-world problems are inherently non-linear, and activation functions enable neural networks to model and capture these complexities. For instance, in image classification tasks, the boundaries between different classes are often non-linear, and activation functions help the network learn these intricate decision boundaries.\n",
        "\n",
        "Enabling Gradient Descent Optimization: Activation functions ensure that the network's output is within a specific range, facilitating stable and efficient optimization during the training process. They help mitigate issues such as vanishing gradients, where the gradients become extremely small as they propagate backward through the network layers, making it difficult for the network to learn.\n",
        "\n",
        "Commonly used activation functions include:\n",
        "\n",
        "Sigmoid: Maps the input to values between 0 and 1. It's useful in binary classification tasks but suffers from the vanishing gradient problem.\n",
        "ReLU (Rectified Linear Unit): Returns 0 for negative inputs and the input value for positive inputs. It's computationally efficient and helps alleviate the vanishing gradient problem.\n",
        "TanH (Hyperbolic Tangent): Similar to the sigmoid function but maps the input to values between -1 and 1, offering stronger gradients compared to sigmoid.\n",
        "Leaky ReLU: Similar to ReLU but allows a small, non-zero gradient for negative inputs, preventing neurons from becoming inactive.\n",
        "If activation functions were not used in ANNs:\n",
        "\n",
        "Linearity: The network would only be capable of learning linear relationships between input and output, severely limiting its expressive power and ability to handle complex data patterns.\n",
        "\n",
        "Inefficiency: Without non-linear activation functions, the network's ability to learn and generalize from data would be greatly compromised. It would require an exceedingly large number of parameters to model even simple functions efficiently.\n",
        "\n",
        "Poor Performance: The network's performance on complex tasks, such as image or speech recognition, would be significantly degraded since it would be unable to capture the intricate relationships present in the data.\n",
        "\n",
        "In summary, activation functions are indispensable components of artificial neural networks, enabling them to model complex data distributions and learn non-linear mappings between inputs and outputs. Their absence would severely limit the network's capability to solve real-world problems effectively."
      ],
      "metadata": {
        "id": "VgRdVWLTbWdY"
      }
    },
    {
      "cell_type": "markdown",
      "source": [
        "**Question: 2**\n",
        "\n",
        "Train a Pure ANN with less than 10000 trainable parameters using the MNIST Dataset\n"
      ],
      "metadata": {
        "id": "pstSnru5cXWN"
      }
    },
    {
      "cell_type": "code",
      "source": [
        "import tensorflow as tf\n",
        "from tensorflow.keras.datasets import mnist\n",
        "from tensorflow.keras.models import Sequential\n",
        "from tensorflow.keras.layers import Dense, Flatten\n",
        "\n",
        "# Load MNIST dataset\n",
        "(x_train, y_train), (x_test, y_test) = mnist.load_data()\n",
        "\n",
        "x_train, x_test = x_train / 255.0, x_test / 255.0\n",
        "\n",
        "model = Sequential([\n",
        "    Flatten(input_shape=(28, 28)),\n",
        "    Dense(128, activation='relu'),\n",
        "    Dense(64, activation='relu'),\n",
        "    Dense(10, activation='softmax')\n",
        "])\n",
        "\n",
        "model.compile(optimizer='adam',\n",
        "              loss='sparse_categorical_crossentropy',\n",
        "              metrics=['accuracy'])\n",
        "\n",
        "model.summary()\n",
        "\n",
        "model.fit(x_train, y_train, epochs=10, batch_size=32, validation_data=(x_test, y_test))\n"
      ],
      "metadata": {
        "colab": {
          "base_uri": "https://localhost:8080/"
        },
        "id": "ap9pyH-OZ5nb",
        "outputId": "4993dc50-094c-4b7c-db04-51921a744e6e"
      },
      "execution_count": 44,
      "outputs": [
        {
          "output_type": "stream",
          "name": "stdout",
          "text": [
            "Downloading data from https://storage.googleapis.com/tensorflow/tf-keras-datasets/mnist.npz\n",
            "11490434/11490434 [==============================] - 0s 0us/step\n",
            "Model: \"sequential\"\n",
            "_________________________________________________________________\n",
            " Layer (type)                Output Shape              Param #   \n",
            "=================================================================\n",
            " flatten (Flatten)           (None, 784)               0         \n",
            "                                                                 \n",
            " dense (Dense)               (None, 128)               100480    \n",
            "                                                                 \n",
            " dense_1 (Dense)             (None, 64)                8256      \n",
            "                                                                 \n",
            " dense_2 (Dense)             (None, 10)                650       \n",
            "                                                                 \n",
            "=================================================================\n",
            "Total params: 109386 (427.29 KB)\n",
            "Trainable params: 109386 (427.29 KB)\n",
            "Non-trainable params: 0 (0.00 Byte)\n",
            "_________________________________________________________________\n",
            "Epoch 1/10\n",
            "1875/1875 [==============================] - 12s 6ms/step - loss: 0.2422 - accuracy: 0.9293 - val_loss: 0.1247 - val_accuracy: 0.9604\n",
            "Epoch 2/10\n",
            "1875/1875 [==============================] - 8s 4ms/step - loss: 0.1004 - accuracy: 0.9691 - val_loss: 0.0901 - val_accuracy: 0.9730\n",
            "Epoch 3/10\n",
            "1875/1875 [==============================] - 10s 5ms/step - loss: 0.0692 - accuracy: 0.9782 - val_loss: 0.0896 - val_accuracy: 0.9715\n",
            "Epoch 4/10\n",
            "1875/1875 [==============================] - 9s 5ms/step - loss: 0.0515 - accuracy: 0.9837 - val_loss: 0.0791 - val_accuracy: 0.9752\n",
            "Epoch 5/10\n",
            "1875/1875 [==============================] - 8s 4ms/step - loss: 0.0407 - accuracy: 0.9869 - val_loss: 0.0790 - val_accuracy: 0.9775\n",
            "Epoch 6/10\n",
            "1875/1875 [==============================] - 9s 5ms/step - loss: 0.0338 - accuracy: 0.9890 - val_loss: 0.0896 - val_accuracy: 0.9757\n",
            "Epoch 7/10\n",
            "1875/1875 [==============================] - 9s 5ms/step - loss: 0.0279 - accuracy: 0.9910 - val_loss: 0.0880 - val_accuracy: 0.9773\n",
            "Epoch 8/10\n",
            "1875/1875 [==============================] - 8s 4ms/step - loss: 0.0229 - accuracy: 0.9925 - val_loss: 0.0849 - val_accuracy: 0.9776\n",
            "Epoch 9/10\n",
            "1875/1875 [==============================] - 9s 5ms/step - loss: 0.0198 - accuracy: 0.9931 - val_loss: 0.1116 - val_accuracy: 0.9744\n",
            "Epoch 10/10\n",
            "1875/1875 [==============================] - 9s 5ms/step - loss: 0.0173 - accuracy: 0.9942 - val_loss: 0.1124 - val_accuracy: 0.9754\n"
          ]
        },
        {
          "output_type": "execute_result",
          "data": {
            "text/plain": [
              "<keras.src.callbacks.History at 0x7aae83707a30>"
            ]
          },
          "metadata": {},
          "execution_count": 44
        }
      ]
    },
    {
      "cell_type": "markdown",
      "source": [
        "**Question: 3**\n",
        " Perform Regression Task using ANN\n",
        "\n",
        "Dataset: Boston Housing dataset"
      ],
      "metadata": {
        "id": "xZNn6Jy0ddgI"
      }
    },
    {
      "cell_type": "code",
      "source": [
        "import numpy as np\n",
        "import tensorflow as tf\n",
        "from tensorflow.keras.datasets import boston_housing\n",
        "from tensorflow.keras.models import Sequential\n",
        "from tensorflow.keras.layers import Dense\n",
        "\n",
        "# Load the Boston Housing dataset\n",
        "(x_train, y_train), (x_test, y_test) = boston_housing.load_data()\n",
        "\n",
        "# Normalize features by subtracting the mean and dividing by the standard deviation\n",
        "mean = x_train.mean(axis=0)\n",
        "std = x_train.std(axis=0)\n",
        "x_train = (x_train - mean) / std\n",
        "x_test = (x_test - mean) / std\n",
        "\n",
        "# Build the model\n",
        "model = Sequential([\n",
        "    Dense(64, activation='relu', input_shape=(x_train.shape[1],)),\n",
        "    Dense(64, activation='relu'),\n",
        "    Dense(1)  # No activation for regression task\n",
        "])\n",
        "\n",
        "# Compile the model\n",
        "model.compile(optimizer='adam', loss='mse', metrics=['mae'])\n",
        "\n",
        "# Print model summary\n",
        "model.summary()\n",
        "\n",
        "# Train the model\n",
        "history = model.fit(x_train, y_train, epochs=100, batch_size=32, validation_split=0.2, verbose=1)\n",
        "\n",
        "# Evaluate the model on test data\n",
        "loss, mae = model.evaluate(x_test, y_test, verbose=0)\n",
        "print(f'Test Mean Absolute Error: {mae:.2f}')\n",
        "\n",
        "# Make predictions\n",
        "predictions = model.predict(x_test)\n"
      ],
      "metadata": {
        "colab": {
          "base_uri": "https://localhost:8080/"
        },
        "id": "NxsaxyNeZ5lI",
        "outputId": "fabd279c-e70e-4df9-8477-59f4814c0ef2"
      },
      "execution_count": 45,
      "outputs": [
        {
          "output_type": "stream",
          "name": "stdout",
          "text": [
            "Downloading data from https://storage.googleapis.com/tensorflow/tf-keras-datasets/boston_housing.npz\n",
            "57026/57026 [==============================] - 0s 0us/step\n",
            "Model: \"sequential_1\"\n",
            "_________________________________________________________________\n",
            " Layer (type)                Output Shape              Param #   \n",
            "=================================================================\n",
            " dense_3 (Dense)             (None, 64)                896       \n",
            "                                                                 \n",
            " dense_4 (Dense)             (None, 64)                4160      \n",
            "                                                                 \n",
            " dense_5 (Dense)             (None, 1)                 65        \n",
            "                                                                 \n",
            "=================================================================\n",
            "Total params: 5121 (20.00 KB)\n",
            "Trainable params: 5121 (20.00 KB)\n",
            "Non-trainable params: 0 (0.00 Byte)\n",
            "_________________________________________________________________\n",
            "Epoch 1/100\n",
            "11/11 [==============================] - 2s 34ms/step - loss: 572.8133 - mae: 22.0684 - val_loss: 622.4426 - val_mae: 23.1412\n",
            "Epoch 2/100\n",
            "11/11 [==============================] - 0s 8ms/step - loss: 532.3931 - mae: 21.1722 - val_loss: 580.7090 - val_mae: 22.2697\n",
            "Epoch 3/100\n",
            "11/11 [==============================] - 0s 9ms/step - loss: 490.8161 - mae: 20.2078 - val_loss: 530.8622 - val_mae: 21.1806\n",
            "Epoch 4/100\n",
            "11/11 [==============================] - 0s 8ms/step - loss: 439.1833 - mae: 18.9612 - val_loss: 466.8236 - val_mae: 19.6896\n",
            "Epoch 5/100\n",
            "11/11 [==============================] - 0s 9ms/step - loss: 372.9829 - mae: 17.2815 - val_loss: 388.1549 - val_mae: 17.7391\n",
            "Epoch 6/100\n",
            "11/11 [==============================] - 0s 11ms/step - loss: 296.7690 - mae: 15.1576 - val_loss: 301.3284 - val_mae: 15.2714\n",
            "Epoch 7/100\n",
            "11/11 [==============================] - 0s 8ms/step - loss: 214.9782 - mae: 12.5418 - val_loss: 212.7210 - val_mae: 12.2294\n",
            "Epoch 8/100\n",
            "11/11 [==============================] - 0s 8ms/step - loss: 142.5415 - mae: 9.7115 - val_loss: 138.5838 - val_mae: 9.2098\n",
            "Epoch 9/100\n",
            "11/11 [==============================] - 0s 10ms/step - loss: 91.2603 - mae: 7.4955 - val_loss: 91.7846 - val_mae: 7.2580\n",
            "Epoch 10/100\n",
            "11/11 [==============================] - 0s 30ms/step - loss: 63.8313 - mae: 6.0284 - val_loss: 68.3838 - val_mae: 6.2531\n",
            "Epoch 11/100\n",
            "11/11 [==============================] - 0s 22ms/step - loss: 50.2416 - mae: 5.1918 - val_loss: 52.6230 - val_mae: 5.5045\n",
            "Epoch 12/100\n",
            "11/11 [==============================] - 0s 21ms/step - loss: 40.7236 - mae: 4.5804 - val_loss: 42.5471 - val_mae: 4.8921\n",
            "Epoch 13/100\n",
            "11/11 [==============================] - 0s 10ms/step - loss: 34.0024 - mae: 4.1359 - val_loss: 35.8819 - val_mae: 4.4828\n",
            "Epoch 14/100\n",
            "11/11 [==============================] - 0s 5ms/step - loss: 29.8391 - mae: 3.8326 - val_loss: 31.3389 - val_mae: 4.1732\n",
            "Epoch 15/100\n",
            "11/11 [==============================] - 0s 5ms/step - loss: 26.6771 - mae: 3.6304 - val_loss: 28.2370 - val_mae: 3.9632\n",
            "Epoch 16/100\n",
            "11/11 [==============================] - 0s 7ms/step - loss: 24.4485 - mae: 3.4686 - val_loss: 26.4937 - val_mae: 3.8298\n",
            "Epoch 17/100\n",
            "11/11 [==============================] - 0s 5ms/step - loss: 22.9444 - mae: 3.3324 - val_loss: 25.3121 - val_mae: 3.7612\n",
            "Epoch 18/100\n",
            "11/11 [==============================] - 0s 7ms/step - loss: 21.6920 - mae: 3.2312 - val_loss: 23.9715 - val_mae: 3.6482\n",
            "Epoch 19/100\n",
            "11/11 [==============================] - 0s 7ms/step - loss: 20.4441 - mae: 3.1210 - val_loss: 22.9339 - val_mae: 3.5464\n",
            "Epoch 20/100\n",
            "11/11 [==============================] - 0s 7ms/step - loss: 19.6420 - mae: 3.0772 - val_loss: 21.9952 - val_mae: 3.4667\n",
            "Epoch 21/100\n",
            "11/11 [==============================] - 0s 7ms/step - loss: 18.7949 - mae: 3.0082 - val_loss: 21.2763 - val_mae: 3.4095\n",
            "Epoch 22/100\n",
            "11/11 [==============================] - 0s 7ms/step - loss: 18.1392 - mae: 2.9541 - val_loss: 20.2956 - val_mae: 3.3535\n",
            "Epoch 23/100\n",
            "11/11 [==============================] - 0s 10ms/step - loss: 17.6462 - mae: 2.9105 - val_loss: 19.7603 - val_mae: 3.3199\n",
            "Epoch 24/100\n",
            "11/11 [==============================] - 0s 7ms/step - loss: 17.1378 - mae: 2.8574 - val_loss: 19.2585 - val_mae: 3.2627\n",
            "Epoch 25/100\n",
            "11/11 [==============================] - 0s 9ms/step - loss: 16.3700 - mae: 2.8028 - val_loss: 18.9755 - val_mae: 3.1742\n",
            "Epoch 26/100\n",
            "11/11 [==============================] - 0s 8ms/step - loss: 15.9659 - mae: 2.7886 - val_loss: 18.6336 - val_mae: 3.1314\n",
            "Epoch 27/100\n",
            "11/11 [==============================] - 0s 10ms/step - loss: 15.5152 - mae: 2.7484 - val_loss: 18.4118 - val_mae: 3.0866\n",
            "Epoch 28/100\n",
            "11/11 [==============================] - 0s 9ms/step - loss: 15.0405 - mae: 2.7009 - val_loss: 18.0769 - val_mae: 3.0717\n",
            "Epoch 29/100\n",
            "11/11 [==============================] - 0s 7ms/step - loss: 14.6587 - mae: 2.6594 - val_loss: 17.8231 - val_mae: 3.0165\n",
            "Epoch 30/100\n",
            "11/11 [==============================] - 0s 7ms/step - loss: 14.4201 - mae: 2.6759 - val_loss: 18.1055 - val_mae: 2.9600\n",
            "Epoch 31/100\n",
            "11/11 [==============================] - 0s 7ms/step - loss: 14.0599 - mae: 2.6450 - val_loss: 17.6522 - val_mae: 2.9595\n",
            "Epoch 32/100\n",
            "11/11 [==============================] - 0s 9ms/step - loss: 13.7354 - mae: 2.6109 - val_loss: 17.4657 - val_mae: 2.9642\n",
            "Epoch 33/100\n",
            "11/11 [==============================] - 0s 9ms/step - loss: 13.3966 - mae: 2.5630 - val_loss: 16.9413 - val_mae: 2.8927\n",
            "Epoch 34/100\n",
            "11/11 [==============================] - 0s 10ms/step - loss: 13.1362 - mae: 2.5371 - val_loss: 16.8355 - val_mae: 2.8608\n",
            "Epoch 35/100\n",
            "11/11 [==============================] - 0s 7ms/step - loss: 12.8727 - mae: 2.5196 - val_loss: 16.7776 - val_mae: 2.8866\n",
            "Epoch 36/100\n",
            "11/11 [==============================] - 0s 8ms/step - loss: 12.7126 - mae: 2.5088 - val_loss: 16.8273 - val_mae: 2.8886\n",
            "Epoch 37/100\n",
            "11/11 [==============================] - 0s 7ms/step - loss: 12.3807 - mae: 2.4825 - val_loss: 16.5934 - val_mae: 2.8036\n",
            "Epoch 38/100\n",
            "11/11 [==============================] - 0s 8ms/step - loss: 12.4532 - mae: 2.5171 - val_loss: 16.7366 - val_mae: 2.8293\n",
            "Epoch 39/100\n",
            "11/11 [==============================] - 0s 9ms/step - loss: 12.0726 - mae: 2.4689 - val_loss: 16.1905 - val_mae: 2.7930\n",
            "Epoch 40/100\n",
            "11/11 [==============================] - 0s 9ms/step - loss: 11.9228 - mae: 2.4170 - val_loss: 15.9005 - val_mae: 2.7922\n",
            "Epoch 41/100\n",
            "11/11 [==============================] - 0s 10ms/step - loss: 11.6439 - mae: 2.4018 - val_loss: 16.1117 - val_mae: 2.8371\n",
            "Epoch 42/100\n",
            "11/11 [==============================] - 0s 8ms/step - loss: 11.6419 - mae: 2.4114 - val_loss: 16.2807 - val_mae: 2.8492\n",
            "Epoch 43/100\n",
            "11/11 [==============================] - 0s 8ms/step - loss: 11.3705 - mae: 2.3788 - val_loss: 15.8829 - val_mae: 2.7741\n",
            "Epoch 44/100\n",
            "11/11 [==============================] - 0s 10ms/step - loss: 11.2479 - mae: 2.3532 - val_loss: 15.7154 - val_mae: 2.7584\n",
            "Epoch 45/100\n",
            "11/11 [==============================] - 0s 10ms/step - loss: 11.0599 - mae: 2.3363 - val_loss: 15.8217 - val_mae: 2.7902\n",
            "Epoch 46/100\n",
            "11/11 [==============================] - 0s 9ms/step - loss: 10.9750 - mae: 2.3391 - val_loss: 15.7530 - val_mae: 2.7870\n",
            "Epoch 47/100\n",
            "11/11 [==============================] - 0s 9ms/step - loss: 10.9011 - mae: 2.3326 - val_loss: 15.5246 - val_mae: 2.7503\n",
            "Epoch 48/100\n",
            "11/11 [==============================] - 0s 9ms/step - loss: 10.7465 - mae: 2.3073 - val_loss: 15.5832 - val_mae: 2.7893\n",
            "Epoch 49/100\n",
            "11/11 [==============================] - 0s 9ms/step - loss: 10.6653 - mae: 2.2935 - val_loss: 15.5600 - val_mae: 2.7804\n",
            "Epoch 50/100\n",
            "11/11 [==============================] - 0s 6ms/step - loss: 10.4859 - mae: 2.3093 - val_loss: 16.3019 - val_mae: 2.7917\n",
            "Epoch 51/100\n",
            "11/11 [==============================] - 0s 7ms/step - loss: 10.4782 - mae: 2.2941 - val_loss: 15.7085 - val_mae: 2.7739\n",
            "Epoch 52/100\n",
            "11/11 [==============================] - 0s 5ms/step - loss: 10.3336 - mae: 2.2650 - val_loss: 15.6019 - val_mae: 2.7350\n",
            "Epoch 53/100\n",
            "11/11 [==============================] - 0s 7ms/step - loss: 10.2731 - mae: 2.2796 - val_loss: 15.9102 - val_mae: 2.7736\n",
            "Epoch 54/100\n",
            "11/11 [==============================] - 0s 6ms/step - loss: 10.1932 - mae: 2.2463 - val_loss: 15.4986 - val_mae: 2.7570\n",
            "Epoch 55/100\n",
            "11/11 [==============================] - 0s 5ms/step - loss: 10.0914 - mae: 2.2474 - val_loss: 15.7061 - val_mae: 2.7277\n",
            "Epoch 56/100\n",
            "11/11 [==============================] - 0s 5ms/step - loss: 10.0086 - mae: 2.2463 - val_loss: 15.4706 - val_mae: 2.7129\n",
            "Epoch 57/100\n",
            "11/11 [==============================] - 0s 5ms/step - loss: 9.9020 - mae: 2.2247 - val_loss: 15.2891 - val_mae: 2.7270\n",
            "Epoch 58/100\n",
            "11/11 [==============================] - 0s 9ms/step - loss: 9.8148 - mae: 2.2095 - val_loss: 15.3695 - val_mae: 2.7028\n",
            "Epoch 59/100\n",
            "11/11 [==============================] - 0s 5ms/step - loss: 9.7363 - mae: 2.1860 - val_loss: 14.8732 - val_mae: 2.7094\n",
            "Epoch 60/100\n",
            "11/11 [==============================] - 0s 6ms/step - loss: 9.7392 - mae: 2.1873 - val_loss: 14.8225 - val_mae: 2.7004\n",
            "Epoch 61/100\n",
            "11/11 [==============================] - 0s 7ms/step - loss: 9.7000 - mae: 2.1749 - val_loss: 15.0096 - val_mae: 2.6945\n",
            "Epoch 62/100\n",
            "11/11 [==============================] - 0s 6ms/step - loss: 9.5520 - mae: 2.1824 - val_loss: 15.2810 - val_mae: 2.6498\n",
            "Epoch 63/100\n",
            "11/11 [==============================] - 0s 8ms/step - loss: 9.6821 - mae: 2.2545 - val_loss: 17.2179 - val_mae: 2.7291\n",
            "Epoch 64/100\n",
            "11/11 [==============================] - 0s 7ms/step - loss: 9.4545 - mae: 2.2326 - val_loss: 16.5289 - val_mae: 2.7494\n",
            "Epoch 65/100\n",
            "11/11 [==============================] - 0s 6ms/step - loss: 9.3496 - mae: 2.1722 - val_loss: 16.3403 - val_mae: 2.7514\n",
            "Epoch 66/100\n",
            "11/11 [==============================] - 0s 7ms/step - loss: 9.3059 - mae: 2.1817 - val_loss: 16.1622 - val_mae: 2.7426\n",
            "Epoch 67/100\n",
            "11/11 [==============================] - 0s 5ms/step - loss: 9.4993 - mae: 2.1525 - val_loss: 15.3972 - val_mae: 2.7497\n",
            "Epoch 68/100\n",
            "11/11 [==============================] - 0s 5ms/step - loss: 9.2590 - mae: 2.1353 - val_loss: 16.0442 - val_mae: 2.7400\n",
            "Epoch 69/100\n",
            "11/11 [==============================] - 0s 5ms/step - loss: 9.0932 - mae: 2.1371 - val_loss: 16.3454 - val_mae: 2.7667\n",
            "Epoch 70/100\n",
            "11/11 [==============================] - 0s 7ms/step - loss: 9.7237 - mae: 2.2846 - val_loss: 18.2088 - val_mae: 2.8050\n",
            "Epoch 71/100\n",
            "11/11 [==============================] - 0s 5ms/step - loss: 9.0722 - mae: 2.1627 - val_loss: 15.4584 - val_mae: 2.7688\n",
            "Epoch 72/100\n",
            "11/11 [==============================] - 0s 7ms/step - loss: 9.3459 - mae: 2.1535 - val_loss: 15.6327 - val_mae: 2.7602\n",
            "Epoch 73/100\n",
            "11/11 [==============================] - 0s 7ms/step - loss: 8.9439 - mae: 2.1454 - val_loss: 16.4383 - val_mae: 2.7384\n",
            "Epoch 74/100\n",
            "11/11 [==============================] - 0s 5ms/step - loss: 8.7982 - mae: 2.1371 - val_loss: 16.2848 - val_mae: 2.7372\n",
            "Epoch 75/100\n",
            "11/11 [==============================] - 0s 7ms/step - loss: 8.7660 - mae: 2.1177 - val_loss: 15.9902 - val_mae: 2.7499\n",
            "Epoch 76/100\n",
            "11/11 [==============================] - 0s 5ms/step - loss: 8.6395 - mae: 2.0880 - val_loss: 15.5148 - val_mae: 2.6910\n",
            "Epoch 77/100\n",
            "11/11 [==============================] - 0s 5ms/step - loss: 8.6067 - mae: 2.0883 - val_loss: 15.7275 - val_mae: 2.7172\n",
            "Epoch 78/100\n",
            "11/11 [==============================] - 0s 6ms/step - loss: 8.6049 - mae: 2.0838 - val_loss: 15.6285 - val_mae: 2.7604\n",
            "Epoch 79/100\n",
            "11/11 [==============================] - 0s 6ms/step - loss: 8.5307 - mae: 2.0574 - val_loss: 15.3774 - val_mae: 2.7296\n",
            "Epoch 80/100\n",
            "11/11 [==============================] - 0s 6ms/step - loss: 8.4536 - mae: 2.0562 - val_loss: 15.6942 - val_mae: 2.7260\n",
            "Epoch 81/100\n",
            "11/11 [==============================] - 0s 7ms/step - loss: 8.3938 - mae: 2.0633 - val_loss: 15.9402 - val_mae: 2.7110\n",
            "Epoch 82/100\n",
            "11/11 [==============================] - 0s 5ms/step - loss: 8.5367 - mae: 2.1162 - val_loss: 17.1233 - val_mae: 2.7858\n",
            "Epoch 83/100\n",
            "11/11 [==============================] - 0s 5ms/step - loss: 8.5969 - mae: 2.0937 - val_loss: 15.8141 - val_mae: 2.7547\n",
            "Epoch 84/100\n",
            "11/11 [==============================] - 0s 7ms/step - loss: 8.2812 - mae: 2.0570 - val_loss: 15.8845 - val_mae: 2.7366\n",
            "Epoch 85/100\n",
            "11/11 [==============================] - 0s 7ms/step - loss: 8.3086 - mae: 2.0610 - val_loss: 15.2517 - val_mae: 2.6707\n",
            "Epoch 86/100\n",
            "11/11 [==============================] - 0s 6ms/step - loss: 8.2016 - mae: 2.0316 - val_loss: 15.1354 - val_mae: 2.7049\n",
            "Epoch 87/100\n",
            "11/11 [==============================] - 0s 7ms/step - loss: 8.1104 - mae: 2.0205 - val_loss: 15.3639 - val_mae: 2.7019\n",
            "Epoch 88/100\n",
            "11/11 [==============================] - 0s 7ms/step - loss: 8.2371 - mae: 2.0353 - val_loss: 15.4950 - val_mae: 2.6560\n",
            "Epoch 89/100\n",
            "11/11 [==============================] - 0s 7ms/step - loss: 8.1741 - mae: 2.0297 - val_loss: 15.7359 - val_mae: 2.7286\n",
            "Epoch 90/100\n",
            "11/11 [==============================] - 0s 7ms/step - loss: 8.0111 - mae: 2.0163 - val_loss: 15.7856 - val_mae: 2.7292\n",
            "Epoch 91/100\n",
            "11/11 [==============================] - 0s 7ms/step - loss: 7.9716 - mae: 2.0022 - val_loss: 15.1437 - val_mae: 2.7265\n",
            "Epoch 92/100\n",
            "11/11 [==============================] - 0s 7ms/step - loss: 8.0733 - mae: 2.0166 - val_loss: 15.2162 - val_mae: 2.7620\n",
            "Epoch 93/100\n",
            "11/11 [==============================] - 0s 7ms/step - loss: 7.9025 - mae: 2.0019 - val_loss: 15.3554 - val_mae: 2.6877\n",
            "Epoch 94/100\n",
            "11/11 [==============================] - 0s 5ms/step - loss: 7.9191 - mae: 2.0101 - val_loss: 15.3975 - val_mae: 2.6718\n",
            "Epoch 95/100\n",
            "11/11 [==============================] - 0s 5ms/step - loss: 7.7880 - mae: 1.9691 - val_loss: 15.3002 - val_mae: 2.7031\n",
            "Epoch 96/100\n",
            "11/11 [==============================] - 0s 7ms/step - loss: 7.7810 - mae: 1.9738 - val_loss: 15.5447 - val_mae: 2.6790\n",
            "Epoch 97/100\n",
            "11/11 [==============================] - 0s 7ms/step - loss: 7.7271 - mae: 1.9713 - val_loss: 15.2881 - val_mae: 2.6475\n",
            "Epoch 98/100\n",
            "11/11 [==============================] - 0s 5ms/step - loss: 7.8246 - mae: 1.9701 - val_loss: 14.8912 - val_mae: 2.6366\n",
            "Epoch 99/100\n",
            "11/11 [==============================] - 0s 5ms/step - loss: 7.7413 - mae: 1.9720 - val_loss: 15.4393 - val_mae: 2.6954\n",
            "Epoch 100/100\n",
            "11/11 [==============================] - 0s 8ms/step - loss: 7.6701 - mae: 1.9726 - val_loss: 15.1279 - val_mae: 2.6553\n",
            "Test Mean Absolute Error: 3.12\n",
            "4/4 [==============================] - 0s 3ms/step\n"
          ]
        }
      ]
    },
    {
      "cell_type": "code",
      "source": [],
      "metadata": {
        "id": "nVDrE4FHd8L9"
      },
      "execution_count": null,
      "outputs": []
    },
    {
      "cell_type": "code",
      "source": [],
      "metadata": {
        "id": "6p0U4l1DZ5iR"
      },
      "execution_count": null,
      "outputs": []
    },
    {
      "cell_type": "code",
      "source": [],
      "metadata": {
        "id": "KJ27ZXHkZ5fx"
      },
      "execution_count": null,
      "outputs": []
    },
    {
      "cell_type": "code",
      "source": [],
      "metadata": {
        "id": "hp4Yd4GHZ5Yc"
      },
      "execution_count": null,
      "outputs": []
    }
  ]
}